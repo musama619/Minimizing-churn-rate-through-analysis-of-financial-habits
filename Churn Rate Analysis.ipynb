{
 "cells": [
  {
   "cell_type": "markdown",
   "metadata": {},
   "source": [
    "# Minimizing churn rate through analysis of financial habits"
   ]
  },
  {
   "cell_type": "code",
   "execution_count": 1,
   "metadata": {},
   "outputs": [],
   "source": [
    "import pandas as pd\n",
    "import numpy as np\n",
    "import matplotlib.pyplot as plt\n",
    "import seaborn as sns"
   ]
  },
  {
   "cell_type": "code",
   "execution_count": 2,
   "metadata": {},
   "outputs": [],
   "source": [
    "data = pd.read_csv('churn_data.csv')"
   ]
  },
  {
   "cell_type": "code",
   "execution_count": 3,
   "metadata": {},
   "outputs": [
    {
     "data": {
      "text/html": [
       "<div>\n",
       "<style scoped>\n",
       "    .dataframe tbody tr th:only-of-type {\n",
       "        vertical-align: middle;\n",
       "    }\n",
       "\n",
       "    .dataframe tbody tr th {\n",
       "        vertical-align: top;\n",
       "    }\n",
       "\n",
       "    .dataframe thead th {\n",
       "        text-align: right;\n",
       "    }\n",
       "</style>\n",
       "<table border=\"1\" class=\"dataframe\">\n",
       "  <thead>\n",
       "    <tr style=\"text-align: right;\">\n",
       "      <th></th>\n",
       "      <th>user</th>\n",
       "      <th>churn</th>\n",
       "      <th>age</th>\n",
       "      <th>housing</th>\n",
       "      <th>credit_score</th>\n",
       "      <th>deposits</th>\n",
       "      <th>withdrawal</th>\n",
       "      <th>purchases_partners</th>\n",
       "      <th>purchases</th>\n",
       "      <th>cc_taken</th>\n",
       "      <th>...</th>\n",
       "      <th>waiting_4_loan</th>\n",
       "      <th>cancelled_loan</th>\n",
       "      <th>received_loan</th>\n",
       "      <th>rejected_loan</th>\n",
       "      <th>zodiac_sign</th>\n",
       "      <th>left_for_two_month_plus</th>\n",
       "      <th>left_for_one_month</th>\n",
       "      <th>rewards_earned</th>\n",
       "      <th>reward_rate</th>\n",
       "      <th>is_referred</th>\n",
       "    </tr>\n",
       "  </thead>\n",
       "  <tbody>\n",
       "    <tr>\n",
       "      <th>0</th>\n",
       "      <td>55409</td>\n",
       "      <td>0</td>\n",
       "      <td>37.0</td>\n",
       "      <td>na</td>\n",
       "      <td>NaN</td>\n",
       "      <td>0</td>\n",
       "      <td>0</td>\n",
       "      <td>0</td>\n",
       "      <td>0</td>\n",
       "      <td>0</td>\n",
       "      <td>...</td>\n",
       "      <td>0</td>\n",
       "      <td>0</td>\n",
       "      <td>0</td>\n",
       "      <td>0</td>\n",
       "      <td>Leo</td>\n",
       "      <td>1</td>\n",
       "      <td>0</td>\n",
       "      <td>NaN</td>\n",
       "      <td>0.00</td>\n",
       "      <td>0</td>\n",
       "    </tr>\n",
       "    <tr>\n",
       "      <th>1</th>\n",
       "      <td>23547</td>\n",
       "      <td>0</td>\n",
       "      <td>28.0</td>\n",
       "      <td>R</td>\n",
       "      <td>486.0</td>\n",
       "      <td>0</td>\n",
       "      <td>0</td>\n",
       "      <td>1</td>\n",
       "      <td>0</td>\n",
       "      <td>0</td>\n",
       "      <td>...</td>\n",
       "      <td>0</td>\n",
       "      <td>0</td>\n",
       "      <td>0</td>\n",
       "      <td>0</td>\n",
       "      <td>Leo</td>\n",
       "      <td>0</td>\n",
       "      <td>0</td>\n",
       "      <td>44.0</td>\n",
       "      <td>1.47</td>\n",
       "      <td>1</td>\n",
       "    </tr>\n",
       "    <tr>\n",
       "      <th>2</th>\n",
       "      <td>58313</td>\n",
       "      <td>0</td>\n",
       "      <td>35.0</td>\n",
       "      <td>R</td>\n",
       "      <td>561.0</td>\n",
       "      <td>47</td>\n",
       "      <td>2</td>\n",
       "      <td>86</td>\n",
       "      <td>47</td>\n",
       "      <td>0</td>\n",
       "      <td>...</td>\n",
       "      <td>0</td>\n",
       "      <td>0</td>\n",
       "      <td>0</td>\n",
       "      <td>0</td>\n",
       "      <td>Capricorn</td>\n",
       "      <td>1</td>\n",
       "      <td>0</td>\n",
       "      <td>65.0</td>\n",
       "      <td>2.17</td>\n",
       "      <td>0</td>\n",
       "    </tr>\n",
       "    <tr>\n",
       "      <th>3</th>\n",
       "      <td>8095</td>\n",
       "      <td>0</td>\n",
       "      <td>26.0</td>\n",
       "      <td>R</td>\n",
       "      <td>567.0</td>\n",
       "      <td>26</td>\n",
       "      <td>3</td>\n",
       "      <td>38</td>\n",
       "      <td>25</td>\n",
       "      <td>0</td>\n",
       "      <td>...</td>\n",
       "      <td>0</td>\n",
       "      <td>0</td>\n",
       "      <td>0</td>\n",
       "      <td>0</td>\n",
       "      <td>Capricorn</td>\n",
       "      <td>0</td>\n",
       "      <td>0</td>\n",
       "      <td>33.0</td>\n",
       "      <td>1.10</td>\n",
       "      <td>1</td>\n",
       "    </tr>\n",
       "    <tr>\n",
       "      <th>4</th>\n",
       "      <td>61353</td>\n",
       "      <td>1</td>\n",
       "      <td>27.0</td>\n",
       "      <td>na</td>\n",
       "      <td>NaN</td>\n",
       "      <td>0</td>\n",
       "      <td>0</td>\n",
       "      <td>2</td>\n",
       "      <td>0</td>\n",
       "      <td>0</td>\n",
       "      <td>...</td>\n",
       "      <td>0</td>\n",
       "      <td>0</td>\n",
       "      <td>0</td>\n",
       "      <td>0</td>\n",
       "      <td>Aries</td>\n",
       "      <td>1</td>\n",
       "      <td>0</td>\n",
       "      <td>1.0</td>\n",
       "      <td>0.03</td>\n",
       "      <td>0</td>\n",
       "    </tr>\n",
       "  </tbody>\n",
       "</table>\n",
       "<p>5 rows × 31 columns</p>\n",
       "</div>"
      ],
      "text/plain": [
       "    user  churn   age housing  credit_score  deposits  withdrawal  \\\n",
       "0  55409      0  37.0      na           NaN         0           0   \n",
       "1  23547      0  28.0       R         486.0         0           0   \n",
       "2  58313      0  35.0       R         561.0        47           2   \n",
       "3   8095      0  26.0       R         567.0        26           3   \n",
       "4  61353      1  27.0      na           NaN         0           0   \n",
       "\n",
       "   purchases_partners  purchases  cc_taken  ...  waiting_4_loan  \\\n",
       "0                   0          0         0  ...               0   \n",
       "1                   1          0         0  ...               0   \n",
       "2                  86         47         0  ...               0   \n",
       "3                  38         25         0  ...               0   \n",
       "4                   2          0         0  ...               0   \n",
       "\n",
       "   cancelled_loan  received_loan  rejected_loan  zodiac_sign  \\\n",
       "0               0              0              0          Leo   \n",
       "1               0              0              0          Leo   \n",
       "2               0              0              0    Capricorn   \n",
       "3               0              0              0    Capricorn   \n",
       "4               0              0              0        Aries   \n",
       "\n",
       "   left_for_two_month_plus  left_for_one_month  rewards_earned  reward_rate  \\\n",
       "0                        1                   0             NaN         0.00   \n",
       "1                        0                   0            44.0         1.47   \n",
       "2                        1                   0            65.0         2.17   \n",
       "3                        0                   0            33.0         1.10   \n",
       "4                        1                   0             1.0         0.03   \n",
       "\n",
       "   is_referred  \n",
       "0            0  \n",
       "1            1  \n",
       "2            0  \n",
       "3            1  \n",
       "4            0  \n",
       "\n",
       "[5 rows x 31 columns]"
      ]
     },
     "execution_count": 3,
     "metadata": {},
     "output_type": "execute_result"
    }
   ],
   "source": [
    "data.head()"
   ]
  },
  {
   "cell_type": "code",
   "execution_count": 4,
   "metadata": {},
   "outputs": [
    {
     "data": {
      "text/html": [
       "<div>\n",
       "<style scoped>\n",
       "    .dataframe tbody tr th:only-of-type {\n",
       "        vertical-align: middle;\n",
       "    }\n",
       "\n",
       "    .dataframe tbody tr th {\n",
       "        vertical-align: top;\n",
       "    }\n",
       "\n",
       "    .dataframe thead th {\n",
       "        text-align: right;\n",
       "    }\n",
       "</style>\n",
       "<table border=\"1\" class=\"dataframe\">\n",
       "  <thead>\n",
       "    <tr style=\"text-align: right;\">\n",
       "      <th></th>\n",
       "      <th>user</th>\n",
       "      <th>churn</th>\n",
       "      <th>age</th>\n",
       "      <th>credit_score</th>\n",
       "      <th>deposits</th>\n",
       "      <th>withdrawal</th>\n",
       "      <th>purchases_partners</th>\n",
       "      <th>purchases</th>\n",
       "      <th>cc_taken</th>\n",
       "      <th>cc_recommended</th>\n",
       "      <th>...</th>\n",
       "      <th>registered_phones</th>\n",
       "      <th>waiting_4_loan</th>\n",
       "      <th>cancelled_loan</th>\n",
       "      <th>received_loan</th>\n",
       "      <th>rejected_loan</th>\n",
       "      <th>left_for_two_month_plus</th>\n",
       "      <th>left_for_one_month</th>\n",
       "      <th>rewards_earned</th>\n",
       "      <th>reward_rate</th>\n",
       "      <th>is_referred</th>\n",
       "    </tr>\n",
       "  </thead>\n",
       "  <tbody>\n",
       "    <tr>\n",
       "      <th>count</th>\n",
       "      <td>27000.000000</td>\n",
       "      <td>27000.000000</td>\n",
       "      <td>26996.000000</td>\n",
       "      <td>18969.000000</td>\n",
       "      <td>27000.000000</td>\n",
       "      <td>27000.000000</td>\n",
       "      <td>27000.000000</td>\n",
       "      <td>27000.000000</td>\n",
       "      <td>27000.000000</td>\n",
       "      <td>27000.000000</td>\n",
       "      <td>...</td>\n",
       "      <td>27000.000000</td>\n",
       "      <td>27000.000000</td>\n",
       "      <td>27000.000000</td>\n",
       "      <td>27000.000000</td>\n",
       "      <td>27000.000000</td>\n",
       "      <td>27000.000000</td>\n",
       "      <td>27000.000000</td>\n",
       "      <td>23773.000000</td>\n",
       "      <td>27000.000000</td>\n",
       "      <td>27000.000000</td>\n",
       "    </tr>\n",
       "    <tr>\n",
       "      <th>mean</th>\n",
       "      <td>35422.702519</td>\n",
       "      <td>0.413852</td>\n",
       "      <td>32.219921</td>\n",
       "      <td>542.944225</td>\n",
       "      <td>3.341556</td>\n",
       "      <td>0.307000</td>\n",
       "      <td>28.062519</td>\n",
       "      <td>3.273481</td>\n",
       "      <td>0.073778</td>\n",
       "      <td>92.625778</td>\n",
       "      <td>...</td>\n",
       "      <td>0.420926</td>\n",
       "      <td>0.001296</td>\n",
       "      <td>0.018815</td>\n",
       "      <td>0.018185</td>\n",
       "      <td>0.004889</td>\n",
       "      <td>0.173444</td>\n",
       "      <td>0.018074</td>\n",
       "      <td>29.110125</td>\n",
       "      <td>0.907684</td>\n",
       "      <td>0.318037</td>\n",
       "    </tr>\n",
       "    <tr>\n",
       "      <th>std</th>\n",
       "      <td>20321.006678</td>\n",
       "      <td>0.492532</td>\n",
       "      <td>9.964838</td>\n",
       "      <td>61.059315</td>\n",
       "      <td>9.131406</td>\n",
       "      <td>1.055416</td>\n",
       "      <td>42.219686</td>\n",
       "      <td>8.953077</td>\n",
       "      <td>0.437299</td>\n",
       "      <td>88.869343</td>\n",
       "      <td>...</td>\n",
       "      <td>0.912831</td>\n",
       "      <td>0.035981</td>\n",
       "      <td>0.135873</td>\n",
       "      <td>0.133623</td>\n",
       "      <td>0.069751</td>\n",
       "      <td>0.378638</td>\n",
       "      <td>0.133222</td>\n",
       "      <td>21.973478</td>\n",
       "      <td>0.752016</td>\n",
       "      <td>0.465723</td>\n",
       "    </tr>\n",
       "    <tr>\n",
       "      <th>min</th>\n",
       "      <td>1.000000</td>\n",
       "      <td>0.000000</td>\n",
       "      <td>17.000000</td>\n",
       "      <td>2.000000</td>\n",
       "      <td>0.000000</td>\n",
       "      <td>0.000000</td>\n",
       "      <td>0.000000</td>\n",
       "      <td>0.000000</td>\n",
       "      <td>0.000000</td>\n",
       "      <td>0.000000</td>\n",
       "      <td>...</td>\n",
       "      <td>0.000000</td>\n",
       "      <td>0.000000</td>\n",
       "      <td>0.000000</td>\n",
       "      <td>0.000000</td>\n",
       "      <td>0.000000</td>\n",
       "      <td>0.000000</td>\n",
       "      <td>0.000000</td>\n",
       "      <td>1.000000</td>\n",
       "      <td>0.000000</td>\n",
       "      <td>0.000000</td>\n",
       "    </tr>\n",
       "    <tr>\n",
       "      <th>25%</th>\n",
       "      <td>17810.500000</td>\n",
       "      <td>0.000000</td>\n",
       "      <td>25.000000</td>\n",
       "      <td>507.000000</td>\n",
       "      <td>0.000000</td>\n",
       "      <td>0.000000</td>\n",
       "      <td>0.000000</td>\n",
       "      <td>0.000000</td>\n",
       "      <td>0.000000</td>\n",
       "      <td>10.000000</td>\n",
       "      <td>...</td>\n",
       "      <td>0.000000</td>\n",
       "      <td>0.000000</td>\n",
       "      <td>0.000000</td>\n",
       "      <td>0.000000</td>\n",
       "      <td>0.000000</td>\n",
       "      <td>0.000000</td>\n",
       "      <td>0.000000</td>\n",
       "      <td>9.000000</td>\n",
       "      <td>0.200000</td>\n",
       "      <td>0.000000</td>\n",
       "    </tr>\n",
       "    <tr>\n",
       "      <th>50%</th>\n",
       "      <td>35749.000000</td>\n",
       "      <td>0.000000</td>\n",
       "      <td>30.000000</td>\n",
       "      <td>542.000000</td>\n",
       "      <td>0.000000</td>\n",
       "      <td>0.000000</td>\n",
       "      <td>9.000000</td>\n",
       "      <td>0.000000</td>\n",
       "      <td>0.000000</td>\n",
       "      <td>65.000000</td>\n",
       "      <td>...</td>\n",
       "      <td>0.000000</td>\n",
       "      <td>0.000000</td>\n",
       "      <td>0.000000</td>\n",
       "      <td>0.000000</td>\n",
       "      <td>0.000000</td>\n",
       "      <td>0.000000</td>\n",
       "      <td>0.000000</td>\n",
       "      <td>25.000000</td>\n",
       "      <td>0.780000</td>\n",
       "      <td>0.000000</td>\n",
       "    </tr>\n",
       "    <tr>\n",
       "      <th>75%</th>\n",
       "      <td>53244.250000</td>\n",
       "      <td>1.000000</td>\n",
       "      <td>37.000000</td>\n",
       "      <td>578.000000</td>\n",
       "      <td>1.000000</td>\n",
       "      <td>0.000000</td>\n",
       "      <td>43.000000</td>\n",
       "      <td>1.000000</td>\n",
       "      <td>0.000000</td>\n",
       "      <td>164.000000</td>\n",
       "      <td>...</td>\n",
       "      <td>0.000000</td>\n",
       "      <td>0.000000</td>\n",
       "      <td>0.000000</td>\n",
       "      <td>0.000000</td>\n",
       "      <td>0.000000</td>\n",
       "      <td>0.000000</td>\n",
       "      <td>0.000000</td>\n",
       "      <td>48.000000</td>\n",
       "      <td>1.530000</td>\n",
       "      <td>1.000000</td>\n",
       "    </tr>\n",
       "    <tr>\n",
       "      <th>max</th>\n",
       "      <td>69658.000000</td>\n",
       "      <td>1.000000</td>\n",
       "      <td>91.000000</td>\n",
       "      <td>838.000000</td>\n",
       "      <td>65.000000</td>\n",
       "      <td>29.000000</td>\n",
       "      <td>1067.000000</td>\n",
       "      <td>63.000000</td>\n",
       "      <td>29.000000</td>\n",
       "      <td>522.000000</td>\n",
       "      <td>...</td>\n",
       "      <td>5.000000</td>\n",
       "      <td>1.000000</td>\n",
       "      <td>1.000000</td>\n",
       "      <td>1.000000</td>\n",
       "      <td>1.000000</td>\n",
       "      <td>1.000000</td>\n",
       "      <td>1.000000</td>\n",
       "      <td>114.000000</td>\n",
       "      <td>4.000000</td>\n",
       "      <td>1.000000</td>\n",
       "    </tr>\n",
       "  </tbody>\n",
       "</table>\n",
       "<p>8 rows × 28 columns</p>\n",
       "</div>"
      ],
      "text/plain": [
       "               user         churn           age  credit_score      deposits  \\\n",
       "count  27000.000000  27000.000000  26996.000000  18969.000000  27000.000000   \n",
       "mean   35422.702519      0.413852     32.219921    542.944225      3.341556   \n",
       "std    20321.006678      0.492532      9.964838     61.059315      9.131406   \n",
       "min        1.000000      0.000000     17.000000      2.000000      0.000000   \n",
       "25%    17810.500000      0.000000     25.000000    507.000000      0.000000   \n",
       "50%    35749.000000      0.000000     30.000000    542.000000      0.000000   \n",
       "75%    53244.250000      1.000000     37.000000    578.000000      1.000000   \n",
       "max    69658.000000      1.000000     91.000000    838.000000     65.000000   \n",
       "\n",
       "         withdrawal  purchases_partners     purchases      cc_taken  \\\n",
       "count  27000.000000        27000.000000  27000.000000  27000.000000   \n",
       "mean       0.307000           28.062519      3.273481      0.073778   \n",
       "std        1.055416           42.219686      8.953077      0.437299   \n",
       "min        0.000000            0.000000      0.000000      0.000000   \n",
       "25%        0.000000            0.000000      0.000000      0.000000   \n",
       "50%        0.000000            9.000000      0.000000      0.000000   \n",
       "75%        0.000000           43.000000      1.000000      0.000000   \n",
       "max       29.000000         1067.000000     63.000000     29.000000   \n",
       "\n",
       "       cc_recommended  ...  registered_phones  waiting_4_loan  cancelled_loan  \\\n",
       "count    27000.000000  ...       27000.000000    27000.000000    27000.000000   \n",
       "mean        92.625778  ...           0.420926        0.001296        0.018815   \n",
       "std         88.869343  ...           0.912831        0.035981        0.135873   \n",
       "min          0.000000  ...           0.000000        0.000000        0.000000   \n",
       "25%         10.000000  ...           0.000000        0.000000        0.000000   \n",
       "50%         65.000000  ...           0.000000        0.000000        0.000000   \n",
       "75%        164.000000  ...           0.000000        0.000000        0.000000   \n",
       "max        522.000000  ...           5.000000        1.000000        1.000000   \n",
       "\n",
       "       received_loan  rejected_loan  left_for_two_month_plus  \\\n",
       "count   27000.000000   27000.000000             27000.000000   \n",
       "mean        0.018185       0.004889                 0.173444   \n",
       "std         0.133623       0.069751                 0.378638   \n",
       "min         0.000000       0.000000                 0.000000   \n",
       "25%         0.000000       0.000000                 0.000000   \n",
       "50%         0.000000       0.000000                 0.000000   \n",
       "75%         0.000000       0.000000                 0.000000   \n",
       "max         1.000000       1.000000                 1.000000   \n",
       "\n",
       "       left_for_one_month  rewards_earned   reward_rate   is_referred  \n",
       "count        27000.000000    23773.000000  27000.000000  27000.000000  \n",
       "mean             0.018074       29.110125      0.907684      0.318037  \n",
       "std              0.133222       21.973478      0.752016      0.465723  \n",
       "min              0.000000        1.000000      0.000000      0.000000  \n",
       "25%              0.000000        9.000000      0.200000      0.000000  \n",
       "50%              0.000000       25.000000      0.780000      0.000000  \n",
       "75%              0.000000       48.000000      1.530000      1.000000  \n",
       "max              1.000000      114.000000      4.000000      1.000000  \n",
       "\n",
       "[8 rows x 28 columns]"
      ]
     },
     "execution_count": 4,
     "metadata": {},
     "output_type": "execute_result"
    }
   ],
   "source": [
    "#data.dtypes \n",
    "data.describe()"
   ]
  },
  {
   "cell_type": "code",
   "execution_count": 5,
   "metadata": {
    "scrolled": true
   },
   "outputs": [
    {
     "data": {
      "text/plain": [
       "user                          0\n",
       "churn                         0\n",
       "age                           4\n",
       "housing                       0\n",
       "credit_score               8031\n",
       "deposits                      0\n",
       "withdrawal                    0\n",
       "purchases_partners            0\n",
       "purchases                     0\n",
       "cc_taken                      0\n",
       "cc_recommended                0\n",
       "cc_disliked                   0\n",
       "cc_liked                      0\n",
       "cc_application_begin          0\n",
       "app_downloaded                0\n",
       "web_user                      0\n",
       "app_web_user                  0\n",
       "ios_user                      0\n",
       "android_user                  0\n",
       "registered_phones             0\n",
       "payment_type                  0\n",
       "waiting_4_loan                0\n",
       "cancelled_loan                0\n",
       "received_loan                 0\n",
       "rejected_loan                 0\n",
       "zodiac_sign                   0\n",
       "left_for_two_month_plus       0\n",
       "left_for_one_month            0\n",
       "rewards_earned             3227\n",
       "reward_rate                   0\n",
       "is_referred                   0\n",
       "dtype: int64"
      ]
     },
     "execution_count": 5,
     "metadata": {},
     "output_type": "execute_result"
    }
   ],
   "source": [
    "data.isnull().sum()"
   ]
  },
  {
   "cell_type": "markdown",
   "metadata": {},
   "source": [
    "## Handling missing data"
   ]
  },
  {
   "cell_type": "code",
   "execution_count": 6,
   "metadata": {},
   "outputs": [],
   "source": [
    "data = data.drop(['credit_score', 'rewards_earned'], axis=1)"
   ]
  },
  {
   "cell_type": "code",
   "execution_count": 7,
   "metadata": {},
   "outputs": [
    {
     "data": {
      "text/plain": [
       "30.0"
      ]
     },
     "execution_count": 7,
     "metadata": {},
     "output_type": "execute_result"
    }
   ],
   "source": [
    "age = data['age'].median()\n",
    "age"
   ]
  },
  {
   "cell_type": "code",
   "execution_count": 8,
   "metadata": {},
   "outputs": [],
   "source": [
    "data['age'] = data['age'].fillna(age)"
   ]
  },
  {
   "cell_type": "code",
   "execution_count": 9,
   "metadata": {},
   "outputs": [
    {
     "data": {
      "text/html": [
       "<div>\n",
       "<style scoped>\n",
       "    .dataframe tbody tr th:only-of-type {\n",
       "        vertical-align: middle;\n",
       "    }\n",
       "\n",
       "    .dataframe tbody tr th {\n",
       "        vertical-align: top;\n",
       "    }\n",
       "\n",
       "    .dataframe thead th {\n",
       "        text-align: right;\n",
       "    }\n",
       "</style>\n",
       "<table border=\"1\" class=\"dataframe\">\n",
       "  <thead>\n",
       "    <tr style=\"text-align: right;\">\n",
       "      <th></th>\n",
       "      <th>user</th>\n",
       "      <th>churn</th>\n",
       "      <th>age</th>\n",
       "      <th>housing</th>\n",
       "      <th>deposits</th>\n",
       "      <th>withdrawal</th>\n",
       "      <th>purchases_partners</th>\n",
       "      <th>purchases</th>\n",
       "      <th>cc_taken</th>\n",
       "      <th>cc_recommended</th>\n",
       "      <th>...</th>\n",
       "      <th>payment_type</th>\n",
       "      <th>waiting_4_loan</th>\n",
       "      <th>cancelled_loan</th>\n",
       "      <th>received_loan</th>\n",
       "      <th>rejected_loan</th>\n",
       "      <th>zodiac_sign</th>\n",
       "      <th>left_for_two_month_plus</th>\n",
       "      <th>left_for_one_month</th>\n",
       "      <th>reward_rate</th>\n",
       "      <th>is_referred</th>\n",
       "    </tr>\n",
       "  </thead>\n",
       "  <tbody>\n",
       "    <tr>\n",
       "      <th>0</th>\n",
       "      <td>55409</td>\n",
       "      <td>0</td>\n",
       "      <td>37.0</td>\n",
       "      <td>na</td>\n",
       "      <td>0</td>\n",
       "      <td>0</td>\n",
       "      <td>0</td>\n",
       "      <td>0</td>\n",
       "      <td>0</td>\n",
       "      <td>0</td>\n",
       "      <td>...</td>\n",
       "      <td>Bi-Weekly</td>\n",
       "      <td>0</td>\n",
       "      <td>0</td>\n",
       "      <td>0</td>\n",
       "      <td>0</td>\n",
       "      <td>Leo</td>\n",
       "      <td>1</td>\n",
       "      <td>0</td>\n",
       "      <td>0.00</td>\n",
       "      <td>0</td>\n",
       "    </tr>\n",
       "    <tr>\n",
       "      <th>1</th>\n",
       "      <td>23547</td>\n",
       "      <td>0</td>\n",
       "      <td>28.0</td>\n",
       "      <td>R</td>\n",
       "      <td>0</td>\n",
       "      <td>0</td>\n",
       "      <td>1</td>\n",
       "      <td>0</td>\n",
       "      <td>0</td>\n",
       "      <td>96</td>\n",
       "      <td>...</td>\n",
       "      <td>Weekly</td>\n",
       "      <td>0</td>\n",
       "      <td>0</td>\n",
       "      <td>0</td>\n",
       "      <td>0</td>\n",
       "      <td>Leo</td>\n",
       "      <td>0</td>\n",
       "      <td>0</td>\n",
       "      <td>1.47</td>\n",
       "      <td>1</td>\n",
       "    </tr>\n",
       "    <tr>\n",
       "      <th>2</th>\n",
       "      <td>58313</td>\n",
       "      <td>0</td>\n",
       "      <td>35.0</td>\n",
       "      <td>R</td>\n",
       "      <td>47</td>\n",
       "      <td>2</td>\n",
       "      <td>86</td>\n",
       "      <td>47</td>\n",
       "      <td>0</td>\n",
       "      <td>285</td>\n",
       "      <td>...</td>\n",
       "      <td>Semi-Monthly</td>\n",
       "      <td>0</td>\n",
       "      <td>0</td>\n",
       "      <td>0</td>\n",
       "      <td>0</td>\n",
       "      <td>Capricorn</td>\n",
       "      <td>1</td>\n",
       "      <td>0</td>\n",
       "      <td>2.17</td>\n",
       "      <td>0</td>\n",
       "    </tr>\n",
       "    <tr>\n",
       "      <th>3</th>\n",
       "      <td>8095</td>\n",
       "      <td>0</td>\n",
       "      <td>26.0</td>\n",
       "      <td>R</td>\n",
       "      <td>26</td>\n",
       "      <td>3</td>\n",
       "      <td>38</td>\n",
       "      <td>25</td>\n",
       "      <td>0</td>\n",
       "      <td>74</td>\n",
       "      <td>...</td>\n",
       "      <td>Bi-Weekly</td>\n",
       "      <td>0</td>\n",
       "      <td>0</td>\n",
       "      <td>0</td>\n",
       "      <td>0</td>\n",
       "      <td>Capricorn</td>\n",
       "      <td>0</td>\n",
       "      <td>0</td>\n",
       "      <td>1.10</td>\n",
       "      <td>1</td>\n",
       "    </tr>\n",
       "    <tr>\n",
       "      <th>4</th>\n",
       "      <td>61353</td>\n",
       "      <td>1</td>\n",
       "      <td>27.0</td>\n",
       "      <td>na</td>\n",
       "      <td>0</td>\n",
       "      <td>0</td>\n",
       "      <td>2</td>\n",
       "      <td>0</td>\n",
       "      <td>0</td>\n",
       "      <td>0</td>\n",
       "      <td>...</td>\n",
       "      <td>Bi-Weekly</td>\n",
       "      <td>0</td>\n",
       "      <td>0</td>\n",
       "      <td>0</td>\n",
       "      <td>0</td>\n",
       "      <td>Aries</td>\n",
       "      <td>1</td>\n",
       "      <td>0</td>\n",
       "      <td>0.03</td>\n",
       "      <td>0</td>\n",
       "    </tr>\n",
       "    <tr>\n",
       "      <th>...</th>\n",
       "      <td>...</td>\n",
       "      <td>...</td>\n",
       "      <td>...</td>\n",
       "      <td>...</td>\n",
       "      <td>...</td>\n",
       "      <td>...</td>\n",
       "      <td>...</td>\n",
       "      <td>...</td>\n",
       "      <td>...</td>\n",
       "      <td>...</td>\n",
       "      <td>...</td>\n",
       "      <td>...</td>\n",
       "      <td>...</td>\n",
       "      <td>...</td>\n",
       "      <td>...</td>\n",
       "      <td>...</td>\n",
       "      <td>...</td>\n",
       "      <td>...</td>\n",
       "      <td>...</td>\n",
       "      <td>...</td>\n",
       "      <td>...</td>\n",
       "    </tr>\n",
       "    <tr>\n",
       "      <th>26995</th>\n",
       "      <td>24291</td>\n",
       "      <td>1</td>\n",
       "      <td>24.0</td>\n",
       "      <td>R</td>\n",
       "      <td>0</td>\n",
       "      <td>0</td>\n",
       "      <td>0</td>\n",
       "      <td>0</td>\n",
       "      <td>0</td>\n",
       "      <td>81</td>\n",
       "      <td>...</td>\n",
       "      <td>Weekly</td>\n",
       "      <td>0</td>\n",
       "      <td>0</td>\n",
       "      <td>0</td>\n",
       "      <td>0</td>\n",
       "      <td>Leo</td>\n",
       "      <td>0</td>\n",
       "      <td>0</td>\n",
       "      <td>1.07</td>\n",
       "      <td>1</td>\n",
       "    </tr>\n",
       "    <tr>\n",
       "      <th>26996</th>\n",
       "      <td>4116</td>\n",
       "      <td>1</td>\n",
       "      <td>26.0</td>\n",
       "      <td>na</td>\n",
       "      <td>0</td>\n",
       "      <td>0</td>\n",
       "      <td>2</td>\n",
       "      <td>0</td>\n",
       "      <td>0</td>\n",
       "      <td>1</td>\n",
       "      <td>...</td>\n",
       "      <td>Bi-Weekly</td>\n",
       "      <td>0</td>\n",
       "      <td>0</td>\n",
       "      <td>0</td>\n",
       "      <td>1</td>\n",
       "      <td>Cancer</td>\n",
       "      <td>1</td>\n",
       "      <td>0</td>\n",
       "      <td>0.67</td>\n",
       "      <td>0</td>\n",
       "    </tr>\n",
       "    <tr>\n",
       "      <th>26997</th>\n",
       "      <td>23740</td>\n",
       "      <td>0</td>\n",
       "      <td>22.0</td>\n",
       "      <td>na</td>\n",
       "      <td>0</td>\n",
       "      <td>0</td>\n",
       "      <td>37</td>\n",
       "      <td>0</td>\n",
       "      <td>0</td>\n",
       "      <td>98</td>\n",
       "      <td>...</td>\n",
       "      <td>Bi-Weekly</td>\n",
       "      <td>0</td>\n",
       "      <td>0</td>\n",
       "      <td>0</td>\n",
       "      <td>0</td>\n",
       "      <td>Taurus</td>\n",
       "      <td>0</td>\n",
       "      <td>0</td>\n",
       "      <td>0.93</td>\n",
       "      <td>0</td>\n",
       "    </tr>\n",
       "    <tr>\n",
       "      <th>26998</th>\n",
       "      <td>47663</td>\n",
       "      <td>1</td>\n",
       "      <td>46.0</td>\n",
       "      <td>na</td>\n",
       "      <td>2</td>\n",
       "      <td>0</td>\n",
       "      <td>16</td>\n",
       "      <td>2</td>\n",
       "      <td>0</td>\n",
       "      <td>58</td>\n",
       "      <td>...</td>\n",
       "      <td>Semi-Monthly</td>\n",
       "      <td>0</td>\n",
       "      <td>0</td>\n",
       "      <td>0</td>\n",
       "      <td>0</td>\n",
       "      <td>Aries</td>\n",
       "      <td>1</td>\n",
       "      <td>0</td>\n",
       "      <td>0.90</td>\n",
       "      <td>1</td>\n",
       "    </tr>\n",
       "    <tr>\n",
       "      <th>26999</th>\n",
       "      <td>52752</td>\n",
       "      <td>1</td>\n",
       "      <td>34.0</td>\n",
       "      <td>na</td>\n",
       "      <td>0</td>\n",
       "      <td>0</td>\n",
       "      <td>4</td>\n",
       "      <td>0</td>\n",
       "      <td>0</td>\n",
       "      <td>11</td>\n",
       "      <td>...</td>\n",
       "      <td>na</td>\n",
       "      <td>0</td>\n",
       "      <td>0</td>\n",
       "      <td>0</td>\n",
       "      <td>0</td>\n",
       "      <td>Cancer</td>\n",
       "      <td>0</td>\n",
       "      <td>0</td>\n",
       "      <td>0.13</td>\n",
       "      <td>0</td>\n",
       "    </tr>\n",
       "  </tbody>\n",
       "</table>\n",
       "<p>27000 rows × 29 columns</p>\n",
       "</div>"
      ],
      "text/plain": [
       "        user  churn   age housing  deposits  withdrawal  purchases_partners  \\\n",
       "0      55409      0  37.0      na         0           0                   0   \n",
       "1      23547      0  28.0       R         0           0                   1   \n",
       "2      58313      0  35.0       R        47           2                  86   \n",
       "3       8095      0  26.0       R        26           3                  38   \n",
       "4      61353      1  27.0      na         0           0                   2   \n",
       "...      ...    ...   ...     ...       ...         ...                 ...   \n",
       "26995  24291      1  24.0       R         0           0                   0   \n",
       "26996   4116      1  26.0      na         0           0                   2   \n",
       "26997  23740      0  22.0      na         0           0                  37   \n",
       "26998  47663      1  46.0      na         2           0                  16   \n",
       "26999  52752      1  34.0      na         0           0                   4   \n",
       "\n",
       "       purchases  cc_taken  cc_recommended  ...  payment_type  waiting_4_loan  \\\n",
       "0              0         0               0  ...     Bi-Weekly               0   \n",
       "1              0         0              96  ...        Weekly               0   \n",
       "2             47         0             285  ...  Semi-Monthly               0   \n",
       "3             25         0              74  ...     Bi-Weekly               0   \n",
       "4              0         0               0  ...     Bi-Weekly               0   \n",
       "...          ...       ...             ...  ...           ...             ...   \n",
       "26995          0         0              81  ...        Weekly               0   \n",
       "26996          0         0               1  ...     Bi-Weekly               0   \n",
       "26997          0         0              98  ...     Bi-Weekly               0   \n",
       "26998          2         0              58  ...  Semi-Monthly               0   \n",
       "26999          0         0              11  ...            na               0   \n",
       "\n",
       "       cancelled_loan  received_loan  rejected_loan  zodiac_sign  \\\n",
       "0                   0              0              0          Leo   \n",
       "1                   0              0              0          Leo   \n",
       "2                   0              0              0    Capricorn   \n",
       "3                   0              0              0    Capricorn   \n",
       "4                   0              0              0        Aries   \n",
       "...               ...            ...            ...          ...   \n",
       "26995               0              0              0          Leo   \n",
       "26996               0              0              1       Cancer   \n",
       "26997               0              0              0       Taurus   \n",
       "26998               0              0              0        Aries   \n",
       "26999               0              0              0       Cancer   \n",
       "\n",
       "       left_for_two_month_plus  left_for_one_month  reward_rate is_referred  \n",
       "0                            1                   0         0.00           0  \n",
       "1                            0                   0         1.47           1  \n",
       "2                            1                   0         2.17           0  \n",
       "3                            0                   0         1.10           1  \n",
       "4                            1                   0         0.03           0  \n",
       "...                        ...                 ...          ...         ...  \n",
       "26995                        0                   0         1.07           1  \n",
       "26996                        1                   0         0.67           0  \n",
       "26997                        0                   0         0.93           0  \n",
       "26998                        1                   0         0.90           1  \n",
       "26999                        0                   0         0.13           0  \n",
       "\n",
       "[27000 rows x 29 columns]"
      ]
     },
     "execution_count": 9,
     "metadata": {},
     "output_type": "execute_result"
    }
   ],
   "source": [
    "data"
   ]
  },
  {
   "cell_type": "code",
   "execution_count": 10,
   "metadata": {
    "scrolled": false
   },
   "outputs": [
    {
     "data": {
      "image/png": "[encoded data removed]",
      "text/plain": [
       "<Figure size 504x360 with 1 Axes>"
      ]
     },
     "metadata": {
      "needs_background": "light"
     },
     "output_type": "display_data"
    }
   ],
   "source": [
    "plt.figure(figsize=(7,5))\n",
    "sns.countplot(data['churn'])\n",
    "plt.show()"
   ]
  },
  {
   "cell_type": "markdown",
   "metadata": {},
   "source": [
    "# Exploratory Data Analysis"
   ]
  },
  {
   "cell_type": "markdown",
   "metadata": {},
   "source": [
    "### Histograms"
   ]
  },
  {
   "cell_type": "code",
   "execution_count": 11,
   "metadata": {},
   "outputs": [],
   "source": [
    "num = [f for f in data if data[f].dtypes !='O']"
   ]
  },
  {
   "cell_type": "code",
   "execution_count": 12,
   "metadata": {},
   "outputs": [
    {
     "data": {
      "image/png": "[encoded data removed]",
      "text/plain": [
       "<Figure size 432x288 with 1 Axes>"
      ]
     },
     "metadata": {
      "needs_background": "light"
     },
     "output_type": "display_data"
    },
    {
     "data": {
      "image/png": "[encoded data removed]",
      "text/plain": [
       "<Figure size 432x288 with 1 Axes>"
      ]
     },
     "metadata": {
      "needs_background": "light"
     },
     "output_type": "display_data"
    },
    {
     "data": {
      "image/png": "[encoded data removed]",
      "text/plain": [
       "<Figure size 432x288 with 1 Axes>"
      ]
     },
     "metadata": {
      "needs_background": "light"
     },
     "output_type": "display_data"
    },
    {
     "data": {
      "image/png": "[encoded data removed]",
      "text/plain": [
       "<Figure size 432x288 with 1 Axes>"
      ]
     },
     "metadata": {
      "needs_background": "light"
     },
     "output_type": "display_data"
    },
    {
     "data": {
      "image/png": "[encoded data removed]",
      "text/plain": [
       "<Figure size 432x288 with 1 Axes>"
      ]
     },
     "metadata": {
      "needs_background": "light"
     },
     "output_type": "display_data"
    },
    {
     "data": {
      "image/png": "[encoded data removed]",
      "text/plain": [
       "<Figure size 432x288 with 1 Axes>"
      ]
     },
     "metadata": {
      "needs_background": "light"
     },
     "output_type": "display_data"
    },
    {
     "data": {
      "image/png": "[encoded data removed]",
      "text/plain": [
       "<Figure size 432x288 with 1 Axes>"
      ]
     },
     "metadata": {
      "needs_background": "light"
     },
     "output_type": "display_data"
    },
    {
     "data": {
      "image/png": "[encoded data removed]",
      "text/plain": [
       "<Figure size 432x288 with 1 Axes>"
      ]
     },
     "metadata": {
      "needs_background": "light"
     },
     "output_type": "display_data"
    },
    {
     "data": {
      "image/png": "[encoded data removed]",
      "text/plain": [
       "<Figure size 432x288 with 1 Axes>"
      ]
     },
     "metadata": {
      "needs_background": "light"
     },
     "output_type": "display_data"
    },
    {
     "data": {
      "image/png": "[encoded data removed]",
      "text/plain": [
       "<Figure size 432x288 with 1 Axes>"
      ]
     },
     "metadata": {
      "needs_background": "light"
     },
     "output_type": "display_data"
    },
    {
     "data": {
      "image/png": "[encoded data removed]",
      "text/plain": [
       "<Figure size 432x288 with 1 Axes>"
      ]
     },
     "metadata": {
      "needs_background": "light"
     },
     "output_type": "display_data"
    },
    {
     "data": {
      "image/png": "[encoded data removed]",
      "text/plain": [
       "<Figure size 432x288 with 1 Axes>"
      ]
     },
     "metadata": {
      "needs_background": "light"
     },
     "output_type": "display_data"
    },
    {
     "data": {
      "image/png": "[encoded data removed]",
      "text/plain": [
       "<Figure size 432x288 with 1 Axes>"
      ]
     },
     "metadata": {
      "needs_background": "light"
     },
     "output_type": "display_data"
    },
    {
     "data": {
      "image/png": "[encoded data removed]",
      "text/plain": [
       "<Figure size 432x288 with 1 Axes>"
      ]
     },
     "metadata": {
      "needs_background": "light"
     },
     "output_type": "display_data"
    },
    {
     "data": {
      "image/png": "[encoded data removed]",
      "text/plain": [
       "<Figure size 432x288 with 1 Axes>"
      ]
     },
     "metadata": {
      "needs_background": "light"
     },
     "output_type": "display_data"
    },
    {
     "data": {
      "image/png": "[encoded data removed]",
      "text/plain": [
       "<Figure size 432x288 with 1 Axes>"
      ]
     },
     "metadata": {
      "needs_background": "light"
     },
     "output_type": "display_data"
    },
    {
     "data": {
      "image/png": "[encoded data removed]",
      "text/plain": [
       "<Figure size 432x288 with 1 Axes>"
      ]
     },
     "metadata": {
      "needs_background": "light"
     },
     "output_type": "display_data"
    },
    {
     "data": {
      "image/png": "[encoded data removed]",
      "text/plain": [
       "<Figure size 432x288 with 1 Axes>"
      ]
     },
     "metadata": {
      "needs_background": "light"
     },
     "output_type": "display_data"
    },
    {
     "data": {
      "image/png": "[encoded data removed]",
      "text/plain": [
       "<Figure size 432x288 with 1 Axes>"
      ]
     },
     "metadata": {
      "needs_background": "light"
     },
     "output_type": "display_data"
    },
    {
     "data": {
      "image/png": "[encoded data removed]",
      "text/plain": [
       "<Figure size 432x288 with 1 Axes>"
      ]
     },
     "metadata": {
      "needs_background": "light"
     },
     "output_type": "display_data"
    },
    {
     "data": {
      "image/png": "[encoded data removed]",
      "text/plain": [
       "<Figure size 432x288 with 1 Axes>"
      ]
     },
     "metadata": {
      "needs_background": "light"
     },
     "output_type": "display_data"
    },
    {
     "data": {
      "image/png": "[encoded data removed]",
      "text/plain": [
       "<Figure size 432x288 with 1 Axes>"
      ]
     },
     "metadata": {
      "needs_background": "light"
     },
     "output_type": "display_data"
    },
    {
     "data": {
      "image/png": "[encoded data removed]",
      "text/plain": [
       "<Figure size 432x288 with 1 Axes>"
      ]
     },
     "metadata": {
      "needs_background": "light"
     },
     "output_type": "display_data"
    },
    {
     "data": {
      "image/png": "[encoded data removed]",
      "text/plain": [
       "<Figure size 432x288 with 1 Axes>"
      ]
     },
     "metadata": {
      "needs_background": "light"
     },
     "output_type": "display_data"
    },
    {
     "data": {
      "image/png": "[encoded data removed]",
      "text/plain": [
       "<Figure size 432x288 with 1 Axes>"
      ]
     },
     "metadata": {
      "needs_background": "light"
     },
     "output_type": "display_data"
    },
    {
     "data": {
      "image/png": "[encoded data removed]",
      "text/plain": [
       "<Figure size 432x288 with 1 Axes>"
      ]
     },
     "metadata": {
      "needs_background": "light"
     },
     "output_type": "display_data"
    }
   ],
   "source": [
    "for f in num:\n",
    "    dataC = data.copy()\n",
    "    dataC[f].hist()\n",
    "    plt.xlabel(f)\n",
    "    plt.show()"
   ]
  },
  {
   "cell_type": "markdown",
   "metadata": {},
   "source": [
    "### Visualizing Categorical Features"
   ]
  },
  {
   "cell_type": "code",
   "execution_count": 13,
   "metadata": {},
   "outputs": [],
   "source": [
    "obj = [f for f in data if data[f].dtypes == 'O']"
   ]
  },
  {
   "cell_type": "code",
   "execution_count": 14,
   "metadata": {},
   "outputs": [
    {
     "data": {
      "text/plain": [
       "['housing', 'payment_type', 'zodiac_sign']"
      ]
     },
     "execution_count": 14,
     "metadata": {},
     "output_type": "execute_result"
    }
   ],
   "source": [
    "obj"
   ]
  },
  {
   "cell_type": "code",
   "execution_count": 15,
   "metadata": {},
   "outputs": [
    {
     "data": {
      "image/png": "[encoded data removed]",
      "text/plain": [
       "<Figure size 1080x360 with 1 Axes>"
      ]
     },
     "metadata": {
      "needs_background": "light"
     },
     "output_type": "display_data"
    },
    {
     "data": {
      "image/png": "[encoded data removed]",
      "text/plain": [
       "<Figure size 1080x360 with 1 Axes>"
      ]
     },
     "metadata": {
      "needs_background": "light"
     },
     "output_type": "display_data"
    },
    {
     "data": {
      "image/png": "[encoded data removed]",
      "text/plain": [
       "<Figure size 1080x360 with 1 Axes>"
      ]
     },
     "metadata": {
      "needs_background": "light"
     },
     "output_type": "display_data"
    }
   ],
   "source": [
    "plt.rcParams['figure.figsize'] = (15, 5)\n",
    "for f in obj:\n",
    "    dataC = data.copy()\n",
    "    sns.countplot(data[f])\n",
    "    plt.show()"
   ]
  },
  {
   "cell_type": "markdown",
   "metadata": {},
   "source": [
    "## ALL Categorical Varibles"
   ]
  },
  {
   "cell_type": "code",
   "execution_count": 16,
   "metadata": {},
   "outputs": [],
   "source": [
    "d2 = data[['housing', 'is_referred', 'app_downloaded',\n",
    "                    'web_user', 'app_web_user', 'ios_user',\n",
    "                    'android_user', 'registered_phones', 'payment_type',\n",
    "                    'waiting_4_loan', 'cancelled_loan',\n",
    "                    'received_loan', 'rejected_loan', 'zodiac_sign',\n",
    "                    'left_for_two_month_plus', 'left_for_one_month', 'is_referred']].copy()"
   ]
  },
  {
   "cell_type": "code",
   "execution_count": 17,
   "metadata": {
    "scrolled": true
   },
   "outputs": [
    {
     "data": {
      "text/plain": [
       "(27000, 17)"
      ]
     },
     "execution_count": 17,
     "metadata": {},
     "output_type": "execute_result"
    }
   ],
   "source": [
    "d2.shape"
   ]
  },
  {
   "cell_type": "code",
   "execution_count": 18,
   "metadata": {
    "scrolled": false
   },
   "outputs": [
    {
     "data": {
      "text/html": [
       "<div>\n",
       "<style scoped>\n",
       "    .dataframe tbody tr th:only-of-type {\n",
       "        vertical-align: middle;\n",
       "    }\n",
       "\n",
       "    .dataframe tbody tr th {\n",
       "        vertical-align: top;\n",
       "    }\n",
       "\n",
       "    .dataframe thead th {\n",
       "        text-align: right;\n",
       "    }\n",
       "</style>\n",
       "<table border=\"1\" class=\"dataframe\">\n",
       "  <thead>\n",
       "    <tr style=\"text-align: right;\">\n",
       "      <th></th>\n",
       "      <th>housing</th>\n",
       "      <th>is_referred</th>\n",
       "      <th>app_downloaded</th>\n",
       "      <th>web_user</th>\n",
       "      <th>app_web_user</th>\n",
       "      <th>ios_user</th>\n",
       "      <th>android_user</th>\n",
       "      <th>registered_phones</th>\n",
       "      <th>payment_type</th>\n",
       "      <th>waiting_4_loan</th>\n",
       "      <th>cancelled_loan</th>\n",
       "      <th>received_loan</th>\n",
       "      <th>rejected_loan</th>\n",
       "      <th>zodiac_sign</th>\n",
       "      <th>left_for_two_month_plus</th>\n",
       "      <th>left_for_one_month</th>\n",
       "      <th>is_referred</th>\n",
       "    </tr>\n",
       "  </thead>\n",
       "  <tbody>\n",
       "    <tr>\n",
       "      <th>0</th>\n",
       "      <td>na</td>\n",
       "      <td>0</td>\n",
       "      <td>1</td>\n",
       "      <td>1</td>\n",
       "      <td>1</td>\n",
       "      <td>1</td>\n",
       "      <td>0</td>\n",
       "      <td>0</td>\n",
       "      <td>Bi-Weekly</td>\n",
       "      <td>0</td>\n",
       "      <td>0</td>\n",
       "      <td>0</td>\n",
       "      <td>0</td>\n",
       "      <td>Leo</td>\n",
       "      <td>1</td>\n",
       "      <td>0</td>\n",
       "      <td>0</td>\n",
       "    </tr>\n",
       "    <tr>\n",
       "      <th>1</th>\n",
       "      <td>R</td>\n",
       "      <td>1</td>\n",
       "      <td>1</td>\n",
       "      <td>1</td>\n",
       "      <td>1</td>\n",
       "      <td>1</td>\n",
       "      <td>0</td>\n",
       "      <td>0</td>\n",
       "      <td>Weekly</td>\n",
       "      <td>0</td>\n",
       "      <td>0</td>\n",
       "      <td>0</td>\n",
       "      <td>0</td>\n",
       "      <td>Leo</td>\n",
       "      <td>0</td>\n",
       "      <td>0</td>\n",
       "      <td>1</td>\n",
       "    </tr>\n",
       "    <tr>\n",
       "      <th>2</th>\n",
       "      <td>R</td>\n",
       "      <td>0</td>\n",
       "      <td>1</td>\n",
       "      <td>0</td>\n",
       "      <td>0</td>\n",
       "      <td>0</td>\n",
       "      <td>1</td>\n",
       "      <td>2</td>\n",
       "      <td>Semi-Monthly</td>\n",
       "      <td>0</td>\n",
       "      <td>0</td>\n",
       "      <td>0</td>\n",
       "      <td>0</td>\n",
       "      <td>Capricorn</td>\n",
       "      <td>1</td>\n",
       "      <td>0</td>\n",
       "      <td>0</td>\n",
       "    </tr>\n",
       "    <tr>\n",
       "      <th>3</th>\n",
       "      <td>R</td>\n",
       "      <td>1</td>\n",
       "      <td>1</td>\n",
       "      <td>0</td>\n",
       "      <td>0</td>\n",
       "      <td>0</td>\n",
       "      <td>1</td>\n",
       "      <td>0</td>\n",
       "      <td>Bi-Weekly</td>\n",
       "      <td>0</td>\n",
       "      <td>0</td>\n",
       "      <td>0</td>\n",
       "      <td>0</td>\n",
       "      <td>Capricorn</td>\n",
       "      <td>0</td>\n",
       "      <td>0</td>\n",
       "      <td>1</td>\n",
       "    </tr>\n",
       "    <tr>\n",
       "      <th>4</th>\n",
       "      <td>na</td>\n",
       "      <td>0</td>\n",
       "      <td>1</td>\n",
       "      <td>1</td>\n",
       "      <td>1</td>\n",
       "      <td>0</td>\n",
       "      <td>1</td>\n",
       "      <td>0</td>\n",
       "      <td>Bi-Weekly</td>\n",
       "      <td>0</td>\n",
       "      <td>0</td>\n",
       "      <td>0</td>\n",
       "      <td>0</td>\n",
       "      <td>Aries</td>\n",
       "      <td>1</td>\n",
       "      <td>0</td>\n",
       "      <td>0</td>\n",
       "    </tr>\n",
       "    <tr>\n",
       "      <th>...</th>\n",
       "      <td>...</td>\n",
       "      <td>...</td>\n",
       "      <td>...</td>\n",
       "      <td>...</td>\n",
       "      <td>...</td>\n",
       "      <td>...</td>\n",
       "      <td>...</td>\n",
       "      <td>...</td>\n",
       "      <td>...</td>\n",
       "      <td>...</td>\n",
       "      <td>...</td>\n",
       "      <td>...</td>\n",
       "      <td>...</td>\n",
       "      <td>...</td>\n",
       "      <td>...</td>\n",
       "      <td>...</td>\n",
       "      <td>...</td>\n",
       "    </tr>\n",
       "    <tr>\n",
       "      <th>26995</th>\n",
       "      <td>R</td>\n",
       "      <td>1</td>\n",
       "      <td>1</td>\n",
       "      <td>1</td>\n",
       "      <td>1</td>\n",
       "      <td>0</td>\n",
       "      <td>1</td>\n",
       "      <td>2</td>\n",
       "      <td>Weekly</td>\n",
       "      <td>0</td>\n",
       "      <td>0</td>\n",
       "      <td>0</td>\n",
       "      <td>0</td>\n",
       "      <td>Leo</td>\n",
       "      <td>0</td>\n",
       "      <td>0</td>\n",
       "      <td>1</td>\n",
       "    </tr>\n",
       "    <tr>\n",
       "      <th>26996</th>\n",
       "      <td>na</td>\n",
       "      <td>0</td>\n",
       "      <td>1</td>\n",
       "      <td>1</td>\n",
       "      <td>1</td>\n",
       "      <td>0</td>\n",
       "      <td>1</td>\n",
       "      <td>0</td>\n",
       "      <td>Bi-Weekly</td>\n",
       "      <td>0</td>\n",
       "      <td>0</td>\n",
       "      <td>0</td>\n",
       "      <td>1</td>\n",
       "      <td>Cancer</td>\n",
       "      <td>1</td>\n",
       "      <td>0</td>\n",
       "      <td>0</td>\n",
       "    </tr>\n",
       "    <tr>\n",
       "      <th>26997</th>\n",
       "      <td>na</td>\n",
       "      <td>0</td>\n",
       "      <td>1</td>\n",
       "      <td>1</td>\n",
       "      <td>1</td>\n",
       "      <td>0</td>\n",
       "      <td>1</td>\n",
       "      <td>0</td>\n",
       "      <td>Bi-Weekly</td>\n",
       "      <td>0</td>\n",
       "      <td>0</td>\n",
       "      <td>0</td>\n",
       "      <td>0</td>\n",
       "      <td>Taurus</td>\n",
       "      <td>0</td>\n",
       "      <td>0</td>\n",
       "      <td>0</td>\n",
       "    </tr>\n",
       "    <tr>\n",
       "      <th>26998</th>\n",
       "      <td>na</td>\n",
       "      <td>1</td>\n",
       "      <td>1</td>\n",
       "      <td>1</td>\n",
       "      <td>1</td>\n",
       "      <td>1</td>\n",
       "      <td>0</td>\n",
       "      <td>0</td>\n",
       "      <td>Semi-Monthly</td>\n",
       "      <td>0</td>\n",
       "      <td>0</td>\n",
       "      <td>0</td>\n",
       "      <td>0</td>\n",
       "      <td>Aries</td>\n",
       "      <td>1</td>\n",
       "      <td>0</td>\n",
       "      <td>1</td>\n",
       "    </tr>\n",
       "    <tr>\n",
       "      <th>26999</th>\n",
       "      <td>na</td>\n",
       "      <td>0</td>\n",
       "      <td>1</td>\n",
       "      <td>0</td>\n",
       "      <td>0</td>\n",
       "      <td>1</td>\n",
       "      <td>1</td>\n",
       "      <td>2</td>\n",
       "      <td>na</td>\n",
       "      <td>0</td>\n",
       "      <td>0</td>\n",
       "      <td>0</td>\n",
       "      <td>0</td>\n",
       "      <td>Cancer</td>\n",
       "      <td>0</td>\n",
       "      <td>0</td>\n",
       "      <td>0</td>\n",
       "    </tr>\n",
       "  </tbody>\n",
       "</table>\n",
       "<p>27000 rows × 17 columns</p>\n",
       "</div>"
      ],
      "text/plain": [
       "      housing  is_referred  app_downloaded  web_user  app_web_user  ios_user  \\\n",
       "0          na            0               1         1             1         1   \n",
       "1           R            1               1         1             1         1   \n",
       "2           R            0               1         0             0         0   \n",
       "3           R            1               1         0             0         0   \n",
       "4          na            0               1         1             1         0   \n",
       "...       ...          ...             ...       ...           ...       ...   \n",
       "26995       R            1               1         1             1         0   \n",
       "26996      na            0               1         1             1         0   \n",
       "26997      na            0               1         1             1         0   \n",
       "26998      na            1               1         1             1         1   \n",
       "26999      na            0               1         0             0         1   \n",
       "\n",
       "       android_user  registered_phones  payment_type  waiting_4_loan  \\\n",
       "0                 0                  0     Bi-Weekly               0   \n",
       "1                 0                  0        Weekly               0   \n",
       "2                 1                  2  Semi-Monthly               0   \n",
       "3                 1                  0     Bi-Weekly               0   \n",
       "4                 1                  0     Bi-Weekly               0   \n",
       "...             ...                ...           ...             ...   \n",
       "26995             1                  2        Weekly               0   \n",
       "26996             1                  0     Bi-Weekly               0   \n",
       "26997             1                  0     Bi-Weekly               0   \n",
       "26998             0                  0  Semi-Monthly               0   \n",
       "26999             1                  2            na               0   \n",
       "\n",
       "       cancelled_loan  received_loan  rejected_loan zodiac_sign  \\\n",
       "0                   0              0              0         Leo   \n",
       "1                   0              0              0         Leo   \n",
       "2                   0              0              0   Capricorn   \n",
       "3                   0              0              0   Capricorn   \n",
       "4                   0              0              0       Aries   \n",
       "...               ...            ...            ...         ...   \n",
       "26995               0              0              0         Leo   \n",
       "26996               0              0              1      Cancer   \n",
       "26997               0              0              0      Taurus   \n",
       "26998               0              0              0       Aries   \n",
       "26999               0              0              0      Cancer   \n",
       "\n",
       "       left_for_two_month_plus  left_for_one_month  is_referred  \n",
       "0                            1                   0            0  \n",
       "1                            0                   0            1  \n",
       "2                            1                   0            0  \n",
       "3                            0                   0            1  \n",
       "4                            1                   0            0  \n",
       "...                        ...                 ...          ...  \n",
       "26995                        0                   0            1  \n",
       "26996                        1                   0            0  \n",
       "26997                        0                   0            0  \n",
       "26998                        1                   0            1  \n",
       "26999                        0                   0            0  \n",
       "\n",
       "[27000 rows x 17 columns]"
      ]
     },
     "execution_count": 18,
     "metadata": {},
     "output_type": "execute_result"
    }
   ],
   "source": [
    "d2"
   ]
  },
  {
   "cell_type": "code",
   "execution_count": 19,
   "metadata": {},
   "outputs": [
    {
     "data": {
      "image/png": "[encoded data removed]",
      "text/plain": [
       "<Figure size 1440x1872 with 17 Axes>"
      ]
     },
     "metadata": {
      "needs_background": "light"
     },
     "output_type": "display_data"
    }
   ],
   "source": [
    "fig = plt.figure(figsize=(20, 26))\n",
    "\n",
    "for i in range(1, d2.shape[1] + 1):\n",
    "    plt.subplot(6,3,i)\n",
    "    f = plt.gca()\n",
    "    sns.countplot(d2.iloc[:, i-1])"
   ]
  },
  {
   "cell_type": "code",
   "execution_count": 20,
   "metadata": {},
   "outputs": [
    {
     "data": {
      "text/plain": [
       "0    26965\n",
       "1       35\n",
       "Name: waiting_4_loan, dtype: int64"
      ]
     },
     "execution_count": 20,
     "metadata": {},
     "output_type": "execute_result"
    }
   ],
   "source": [
    "data['waiting_4_loan'].value_counts()"
   ]
  },
  {
   "cell_type": "code",
   "execution_count": 21,
   "metadata": {},
   "outputs": [
    {
     "data": {
      "text/plain": [
       "0    27\n",
       "1     8\n",
       "Name: churn, dtype: int64"
      ]
     },
     "execution_count": 21,
     "metadata": {},
     "output_type": "execute_result"
    }
   ],
   "source": [
    "data[data['waiting_4_loan']== 1].churn.value_counts()"
   ]
  },
  {
   "cell_type": "code",
   "execution_count": 22,
   "metadata": {},
   "outputs": [
    {
     "data": {
      "text/plain": [
       "1    274\n",
       "0    234\n",
       "Name: churn, dtype: int64"
      ]
     },
     "execution_count": 22,
     "metadata": {},
     "output_type": "execute_result"
    }
   ],
   "source": [
    "data[data['cancelled_loan']== 1].churn.value_counts()"
   ]
  },
  {
   "cell_type": "code",
   "execution_count": 23,
   "metadata": {},
   "outputs": [
    {
     "data": {
      "text/plain": [
       "1    292\n",
       "0    199\n",
       "Name: churn, dtype: int64"
      ]
     },
     "execution_count": 23,
     "metadata": {},
     "output_type": "execute_result"
    }
   ],
   "source": [
    "data[data['received_loan']== 1].churn.value_counts()"
   ]
  },
  {
   "cell_type": "code",
   "execution_count": 24,
   "metadata": {},
   "outputs": [
    {
     "data": {
      "text/plain": [
       "1    107\n",
       "0     25\n",
       "Name: churn, dtype: int64"
      ]
     },
     "execution_count": 24,
     "metadata": {},
     "output_type": "execute_result"
    }
   ],
   "source": [
    "data[data['rejected_loan']== 1].churn.value_counts()"
   ]
  },
  {
   "cell_type": "code",
   "execution_count": 25,
   "metadata": {
    "scrolled": true
   },
   "outputs": [
    {
     "data": {
      "text/plain": [
       "1    266\n",
       "0    222\n",
       "Name: churn, dtype: int64"
      ]
     },
     "execution_count": 25,
     "metadata": {},
     "output_type": "execute_result"
    }
   ],
   "source": [
    "data[data['left_for_one_month']== 1].churn.value_counts()"
   ]
  },
  {
   "cell_type": "markdown",
   "metadata": {},
   "source": [
    "# Correlation with Churn Variable"
   ]
  },
  {
   "cell_type": "code",
   "execution_count": 26,
   "metadata": {},
   "outputs": [
    {
     "data": {
      "text/plain": [
       "<matplotlib.axes._subplots.AxesSubplot at 0x214d4f78940>"
      ]
     },
     "execution_count": 26,
     "metadata": {},
     "output_type": "execute_result"
    },
    {
     "data": {
      "image/png": "[encoded data removed]",
      "text/plain": [
       "<Figure size 1800x1080 with 1 Axes>"
      ]
     },
     "metadata": {
      "needs_background": "light"
     },
     "output_type": "display_data"
    }
   ],
   "source": [
    "data.drop(columns = ['user', 'housing', 'payment_type',\n",
    "                    'registered_phones', 'zodiac_sign', 'churn']).corrwith(data['churn']).plot.bar(figsize=(25,15),\n",
    "              title = 'Correlation with Response variable',\n",
    "              fontsize = 20, rot = 45,\n",
    "              grid = True)"
   ]
  },
  {
   "cell_type": "markdown",
   "metadata": {},
   "source": [
    "### Negatively Corelated\n",
    "- Smaller the age more likely it is to churn\n",
    "- less the deposits and witdrawals more likely it is to churn \n",
    "- Similarly with the purchases , cc recommended etc. We can see from the correlation plot above\n",
    "......\n",
    "\n",
    "### Correlated \n",
    "- The people who have taken Credit Card are more likely to churn means there is issue in our credit card or its features\n",
    "- Also the web and iOS users are more likely to churn than ANdroid Users means that the iOS and web application have issue and need to be fixed\n"
   ]
  },
  {
   "cell_type": "markdown",
   "metadata": {},
   "source": [
    "# Correlation Matrix"
   ]
  },
  {
   "cell_type": "code",
   "execution_count": 27,
   "metadata": {},
   "outputs": [],
   "source": [
    "newD = data.drop(['user', 'churn'], axis=1)"
   ]
  },
  {
   "cell_type": "code",
   "execution_count": 28,
   "metadata": {},
   "outputs": [],
   "source": [
    "corr = newD.corr()"
   ]
  },
  {
   "cell_type": "code",
   "execution_count": 29,
   "metadata": {},
   "outputs": [
    {
     "data": {
      "text/plain": [
       "<matplotlib.axes._subplots.AxesSubplot at 0x214d57664e0>"
      ]
     },
     "execution_count": 29,
     "metadata": {},
     "output_type": "execute_result"
    },
    {
     "data": {
      "image/png": "[encoded data removed]",
      "text/plain": [
       "<Figure size 1296x1080 with 2 Axes>"
      ]
     },
     "metadata": {},
     "output_type": "display_data"
    }
   ],
   "source": [
    "#I got this Matrix code from Superdatascience\n",
    "\n",
    "sns.set(style=\"white\")\n",
    "\n",
    "mask = np.zeros_like(corr, dtype=np.bool)\n",
    "mask[np.triu_indices_from(mask)] = True\n",
    "\n",
    "f, ax = plt.subplots(figsize=(18, 15))\n",
    "\n",
    "# Generate a custom diverging colormap\n",
    "cmap = sns.diverging_palette(220, 10, as_cmap=True)\n",
    "\n",
    "# Draw the heatmap with the mask and correct aspect ratio\n",
    "sns.heatmap(corr, mask=mask, cmap=cmap, vmax=.3, center=0,\n",
    "            square=True, linewidths=.5, cbar_kws={\"shrink\": .5})\n"
   ]
  },
  {
   "cell_type": "markdown",
   "metadata": {},
   "source": [
    "- We can see android_user and iOS_user are high relation and it is obvious that the android user cannot be iOS user and vice versa"
   ]
  },
  {
   "cell_type": "code",
   "execution_count": 30,
   "metadata": {},
   "outputs": [],
   "source": [
    "data = data.drop(['app_web_user'], axis=1)"
   ]
  },
  {
   "cell_type": "code",
   "execution_count": 31,
   "metadata": {},
   "outputs": [
    {
     "data": {
      "text/html": [
       "<div>\n",
       "<style scoped>\n",
       "    .dataframe tbody tr th:only-of-type {\n",
       "        vertical-align: middle;\n",
       "    }\n",
       "\n",
       "    .dataframe tbody tr th {\n",
       "        vertical-align: top;\n",
       "    }\n",
       "\n",
       "    .dataframe thead th {\n",
       "        text-align: right;\n",
       "    }\n",
       "</style>\n",
       "<table border=\"1\" class=\"dataframe\">\n",
       "  <thead>\n",
       "    <tr style=\"text-align: right;\">\n",
       "      <th></th>\n",
       "      <th>user</th>\n",
       "      <th>churn</th>\n",
       "      <th>age</th>\n",
       "      <th>housing</th>\n",
       "      <th>deposits</th>\n",
       "      <th>withdrawal</th>\n",
       "      <th>purchases_partners</th>\n",
       "      <th>purchases</th>\n",
       "      <th>cc_taken</th>\n",
       "      <th>cc_recommended</th>\n",
       "      <th>...</th>\n",
       "      <th>payment_type</th>\n",
       "      <th>waiting_4_loan</th>\n",
       "      <th>cancelled_loan</th>\n",
       "      <th>received_loan</th>\n",
       "      <th>rejected_loan</th>\n",
       "      <th>zodiac_sign</th>\n",
       "      <th>left_for_two_month_plus</th>\n",
       "      <th>left_for_one_month</th>\n",
       "      <th>reward_rate</th>\n",
       "      <th>is_referred</th>\n",
       "    </tr>\n",
       "  </thead>\n",
       "  <tbody>\n",
       "    <tr>\n",
       "      <th>0</th>\n",
       "      <td>55409</td>\n",
       "      <td>0</td>\n",
       "      <td>37.0</td>\n",
       "      <td>na</td>\n",
       "      <td>0</td>\n",
       "      <td>0</td>\n",
       "      <td>0</td>\n",
       "      <td>0</td>\n",
       "      <td>0</td>\n",
       "      <td>0</td>\n",
       "      <td>...</td>\n",
       "      <td>Bi-Weekly</td>\n",
       "      <td>0</td>\n",
       "      <td>0</td>\n",
       "      <td>0</td>\n",
       "      <td>0</td>\n",
       "      <td>Leo</td>\n",
       "      <td>1</td>\n",
       "      <td>0</td>\n",
       "      <td>0.00</td>\n",
       "      <td>0</td>\n",
       "    </tr>\n",
       "    <tr>\n",
       "      <th>1</th>\n",
       "      <td>23547</td>\n",
       "      <td>0</td>\n",
       "      <td>28.0</td>\n",
       "      <td>R</td>\n",
       "      <td>0</td>\n",
       "      <td>0</td>\n",
       "      <td>1</td>\n",
       "      <td>0</td>\n",
       "      <td>0</td>\n",
       "      <td>96</td>\n",
       "      <td>...</td>\n",
       "      <td>Weekly</td>\n",
       "      <td>0</td>\n",
       "      <td>0</td>\n",
       "      <td>0</td>\n",
       "      <td>0</td>\n",
       "      <td>Leo</td>\n",
       "      <td>0</td>\n",
       "      <td>0</td>\n",
       "      <td>1.47</td>\n",
       "      <td>1</td>\n",
       "    </tr>\n",
       "    <tr>\n",
       "      <th>2</th>\n",
       "      <td>58313</td>\n",
       "      <td>0</td>\n",
       "      <td>35.0</td>\n",
       "      <td>R</td>\n",
       "      <td>47</td>\n",
       "      <td>2</td>\n",
       "      <td>86</td>\n",
       "      <td>47</td>\n",
       "      <td>0</td>\n",
       "      <td>285</td>\n",
       "      <td>...</td>\n",
       "      <td>Semi-Monthly</td>\n",
       "      <td>0</td>\n",
       "      <td>0</td>\n",
       "      <td>0</td>\n",
       "      <td>0</td>\n",
       "      <td>Capricorn</td>\n",
       "      <td>1</td>\n",
       "      <td>0</td>\n",
       "      <td>2.17</td>\n",
       "      <td>0</td>\n",
       "    </tr>\n",
       "    <tr>\n",
       "      <th>3</th>\n",
       "      <td>8095</td>\n",
       "      <td>0</td>\n",
       "      <td>26.0</td>\n",
       "      <td>R</td>\n",
       "      <td>26</td>\n",
       "      <td>3</td>\n",
       "      <td>38</td>\n",
       "      <td>25</td>\n",
       "      <td>0</td>\n",
       "      <td>74</td>\n",
       "      <td>...</td>\n",
       "      <td>Bi-Weekly</td>\n",
       "      <td>0</td>\n",
       "      <td>0</td>\n",
       "      <td>0</td>\n",
       "      <td>0</td>\n",
       "      <td>Capricorn</td>\n",
       "      <td>0</td>\n",
       "      <td>0</td>\n",
       "      <td>1.10</td>\n",
       "      <td>1</td>\n",
       "    </tr>\n",
       "    <tr>\n",
       "      <th>4</th>\n",
       "      <td>61353</td>\n",
       "      <td>1</td>\n",
       "      <td>27.0</td>\n",
       "      <td>na</td>\n",
       "      <td>0</td>\n",
       "      <td>0</td>\n",
       "      <td>2</td>\n",
       "      <td>0</td>\n",
       "      <td>0</td>\n",
       "      <td>0</td>\n",
       "      <td>...</td>\n",
       "      <td>Bi-Weekly</td>\n",
       "      <td>0</td>\n",
       "      <td>0</td>\n",
       "      <td>0</td>\n",
       "      <td>0</td>\n",
       "      <td>Aries</td>\n",
       "      <td>1</td>\n",
       "      <td>0</td>\n",
       "      <td>0.03</td>\n",
       "      <td>0</td>\n",
       "    </tr>\n",
       "    <tr>\n",
       "      <th>...</th>\n",
       "      <td>...</td>\n",
       "      <td>...</td>\n",
       "      <td>...</td>\n",
       "      <td>...</td>\n",
       "      <td>...</td>\n",
       "      <td>...</td>\n",
       "      <td>...</td>\n",
       "      <td>...</td>\n",
       "      <td>...</td>\n",
       "      <td>...</td>\n",
       "      <td>...</td>\n",
       "      <td>...</td>\n",
       "      <td>...</td>\n",
       "      <td>...</td>\n",
       "      <td>...</td>\n",
       "      <td>...</td>\n",
       "      <td>...</td>\n",
       "      <td>...</td>\n",
       "      <td>...</td>\n",
       "      <td>...</td>\n",
       "      <td>...</td>\n",
       "    </tr>\n",
       "    <tr>\n",
       "      <th>26995</th>\n",
       "      <td>24291</td>\n",
       "      <td>1</td>\n",
       "      <td>24.0</td>\n",
       "      <td>R</td>\n",
       "      <td>0</td>\n",
       "      <td>0</td>\n",
       "      <td>0</td>\n",
       "      <td>0</td>\n",
       "      <td>0</td>\n",
       "      <td>81</td>\n",
       "      <td>...</td>\n",
       "      <td>Weekly</td>\n",
       "      <td>0</td>\n",
       "      <td>0</td>\n",
       "      <td>0</td>\n",
       "      <td>0</td>\n",
       "      <td>Leo</td>\n",
       "      <td>0</td>\n",
       "      <td>0</td>\n",
       "      <td>1.07</td>\n",
       "      <td>1</td>\n",
       "    </tr>\n",
       "    <tr>\n",
       "      <th>26996</th>\n",
       "      <td>4116</td>\n",
       "      <td>1</td>\n",
       "      <td>26.0</td>\n",
       "      <td>na</td>\n",
       "      <td>0</td>\n",
       "      <td>0</td>\n",
       "      <td>2</td>\n",
       "      <td>0</td>\n",
       "      <td>0</td>\n",
       "      <td>1</td>\n",
       "      <td>...</td>\n",
       "      <td>Bi-Weekly</td>\n",
       "      <td>0</td>\n",
       "      <td>0</td>\n",
       "      <td>0</td>\n",
       "      <td>1</td>\n",
       "      <td>Cancer</td>\n",
       "      <td>1</td>\n",
       "      <td>0</td>\n",
       "      <td>0.67</td>\n",
       "      <td>0</td>\n",
       "    </tr>\n",
       "    <tr>\n",
       "      <th>26997</th>\n",
       "      <td>23740</td>\n",
       "      <td>0</td>\n",
       "      <td>22.0</td>\n",
       "      <td>na</td>\n",
       "      <td>0</td>\n",
       "      <td>0</td>\n",
       "      <td>37</td>\n",
       "      <td>0</td>\n",
       "      <td>0</td>\n",
       "      <td>98</td>\n",
       "      <td>...</td>\n",
       "      <td>Bi-Weekly</td>\n",
       "      <td>0</td>\n",
       "      <td>0</td>\n",
       "      <td>0</td>\n",
       "      <td>0</td>\n",
       "      <td>Taurus</td>\n",
       "      <td>0</td>\n",
       "      <td>0</td>\n",
       "      <td>0.93</td>\n",
       "      <td>0</td>\n",
       "    </tr>\n",
       "    <tr>\n",
       "      <th>26998</th>\n",
       "      <td>47663</td>\n",
       "      <td>1</td>\n",
       "      <td>46.0</td>\n",
       "      <td>na</td>\n",
       "      <td>2</td>\n",
       "      <td>0</td>\n",
       "      <td>16</td>\n",
       "      <td>2</td>\n",
       "      <td>0</td>\n",
       "      <td>58</td>\n",
       "      <td>...</td>\n",
       "      <td>Semi-Monthly</td>\n",
       "      <td>0</td>\n",
       "      <td>0</td>\n",
       "      <td>0</td>\n",
       "      <td>0</td>\n",
       "      <td>Aries</td>\n",
       "      <td>1</td>\n",
       "      <td>0</td>\n",
       "      <td>0.90</td>\n",
       "      <td>1</td>\n",
       "    </tr>\n",
       "    <tr>\n",
       "      <th>26999</th>\n",
       "      <td>52752</td>\n",
       "      <td>1</td>\n",
       "      <td>34.0</td>\n",
       "      <td>na</td>\n",
       "      <td>0</td>\n",
       "      <td>0</td>\n",
       "      <td>4</td>\n",
       "      <td>0</td>\n",
       "      <td>0</td>\n",
       "      <td>11</td>\n",
       "      <td>...</td>\n",
       "      <td>na</td>\n",
       "      <td>0</td>\n",
       "      <td>0</td>\n",
       "      <td>0</td>\n",
       "      <td>0</td>\n",
       "      <td>Cancer</td>\n",
       "      <td>0</td>\n",
       "      <td>0</td>\n",
       "      <td>0.13</td>\n",
       "      <td>0</td>\n",
       "    </tr>\n",
       "  </tbody>\n",
       "</table>\n",
       "<p>27000 rows × 28 columns</p>\n",
       "</div>"
      ],
      "text/plain": [
       "        user  churn   age housing  deposits  withdrawal  purchases_partners  \\\n",
       "0      55409      0  37.0      na         0           0                   0   \n",
       "1      23547      0  28.0       R         0           0                   1   \n",
       "2      58313      0  35.0       R        47           2                  86   \n",
       "3       8095      0  26.0       R        26           3                  38   \n",
       "4      61353      1  27.0      na         0           0                   2   \n",
       "...      ...    ...   ...     ...       ...         ...                 ...   \n",
       "26995  24291      1  24.0       R         0           0                   0   \n",
       "26996   4116      1  26.0      na         0           0                   2   \n",
       "26997  23740      0  22.0      na         0           0                  37   \n",
       "26998  47663      1  46.0      na         2           0                  16   \n",
       "26999  52752      1  34.0      na         0           0                   4   \n",
       "\n",
       "       purchases  cc_taken  cc_recommended  ...  payment_type  waiting_4_loan  \\\n",
       "0              0         0               0  ...     Bi-Weekly               0   \n",
       "1              0         0              96  ...        Weekly               0   \n",
       "2             47         0             285  ...  Semi-Monthly               0   \n",
       "3             25         0              74  ...     Bi-Weekly               0   \n",
       "4              0         0               0  ...     Bi-Weekly               0   \n",
       "...          ...       ...             ...  ...           ...             ...   \n",
       "26995          0         0              81  ...        Weekly               0   \n",
       "26996          0         0               1  ...     Bi-Weekly               0   \n",
       "26997          0         0              98  ...     Bi-Weekly               0   \n",
       "26998          2         0              58  ...  Semi-Monthly               0   \n",
       "26999          0         0              11  ...            na               0   \n",
       "\n",
       "       cancelled_loan  received_loan  rejected_loan  zodiac_sign  \\\n",
       "0                   0              0              0          Leo   \n",
       "1                   0              0              0          Leo   \n",
       "2                   0              0              0    Capricorn   \n",
       "3                   0              0              0    Capricorn   \n",
       "4                   0              0              0        Aries   \n",
       "...               ...            ...            ...          ...   \n",
       "26995               0              0              0          Leo   \n",
       "26996               0              0              1       Cancer   \n",
       "26997               0              0              0       Taurus   \n",
       "26998               0              0              0        Aries   \n",
       "26999               0              0              0       Cancer   \n",
       "\n",
       "       left_for_two_month_plus  left_for_one_month reward_rate  is_referred  \n",
       "0                            1                   0        0.00            0  \n",
       "1                            0                   0        1.47            1  \n",
       "2                            1                   0        2.17            0  \n",
       "3                            0                   0        1.10            1  \n",
       "4                            1                   0        0.03            0  \n",
       "...                        ...                 ...         ...          ...  \n",
       "26995                        0                   0        1.07            1  \n",
       "26996                        1                   0        0.67            0  \n",
       "26997                        0                   0        0.93            0  \n",
       "26998                        1                   0        0.90            1  \n",
       "26999                        0                   0        0.13            0  \n",
       "\n",
       "[27000 rows x 28 columns]"
      ]
     },
     "execution_count": 31,
     "metadata": {},
     "output_type": "execute_result"
    }
   ],
   "source": [
    "data"
   ]
  },
  {
   "cell_type": "markdown",
   "metadata": {},
   "source": [
    "## Data Preparation"
   ]
  },
  {
   "cell_type": "code",
   "execution_count": 32,
   "metadata": {},
   "outputs": [],
   "source": [
    "user = data['user']"
   ]
  },
  {
   "cell_type": "code",
   "execution_count": 33,
   "metadata": {},
   "outputs": [],
   "source": [
    "data = data.drop(['user'], axis=1)"
   ]
  },
  {
   "cell_type": "markdown",
   "metadata": {},
   "source": [
    "## One Hot Encoding"
   ]
  },
  {
   "cell_type": "code",
   "execution_count": 34,
   "metadata": {},
   "outputs": [
    {
     "data": {
      "text/plain": [
       "na    13860\n",
       "R     10969\n",
       "O      2171\n",
       "Name: housing, dtype: int64"
      ]
     },
     "execution_count": 34,
     "metadata": {},
     "output_type": "execute_result"
    }
   ],
   "source": [
    "data['housing'].value_counts() "
   ]
  },
  {
   "cell_type": "code",
   "execution_count": 35,
   "metadata": {},
   "outputs": [
    {
     "data": {
      "text/plain": [
       "Bi-Weekly       12716\n",
       "Weekly           5289\n",
       "na               3899\n",
       "Monthly          2656\n",
       "Semi-Monthly     2440\n",
       "Name: payment_type, dtype: int64"
      ]
     },
     "execution_count": 35,
     "metadata": {},
     "output_type": "execute_result"
    }
   ],
   "source": [
    "data['payment_type'].value_counts() "
   ]
  },
  {
   "cell_type": "code",
   "execution_count": 36,
   "metadata": {},
   "outputs": [
    {
     "data": {
      "text/plain": [
       "Cancer         2424\n",
       "Virgo          2410\n",
       "Leo            2374\n",
       "Taurus         2236\n",
       "Gemini         2168\n",
       "na             2159\n",
       "Libra          2128\n",
       "Pisces         2127\n",
       "Scorpio        2118\n",
       "Aquarius       2117\n",
       "Sagittarius    2056\n",
       "Aries          2001\n",
       "Capricorn       682\n",
       "Name: zodiac_sign, dtype: int64"
      ]
     },
     "execution_count": 36,
     "metadata": {},
     "output_type": "execute_result"
    }
   ],
   "source": [
    "data['zodiac_sign'].value_counts() "
   ]
  },
  {
   "cell_type": "code",
   "execution_count": 37,
   "metadata": {},
   "outputs": [],
   "source": [
    "data = pd.get_dummies(data)"
   ]
  },
  {
   "cell_type": "code",
   "execution_count": 38,
   "metadata": {},
   "outputs": [
    {
     "data": {
      "text/html": [
       "<div>\n",
       "<style scoped>\n",
       "    .dataframe tbody tr th:only-of-type {\n",
       "        vertical-align: middle;\n",
       "    }\n",
       "\n",
       "    .dataframe tbody tr th {\n",
       "        vertical-align: top;\n",
       "    }\n",
       "\n",
       "    .dataframe thead th {\n",
       "        text-align: right;\n",
       "    }\n",
       "</style>\n",
       "<table border=\"1\" class=\"dataframe\">\n",
       "  <thead>\n",
       "    <tr style=\"text-align: right;\">\n",
       "      <th></th>\n",
       "      <th>churn</th>\n",
       "      <th>age</th>\n",
       "      <th>deposits</th>\n",
       "      <th>withdrawal</th>\n",
       "      <th>purchases_partners</th>\n",
       "      <th>purchases</th>\n",
       "      <th>cc_taken</th>\n",
       "      <th>cc_recommended</th>\n",
       "      <th>cc_disliked</th>\n",
       "      <th>cc_liked</th>\n",
       "      <th>...</th>\n",
       "      <th>zodiac_sign_Capricorn</th>\n",
       "      <th>zodiac_sign_Gemini</th>\n",
       "      <th>zodiac_sign_Leo</th>\n",
       "      <th>zodiac_sign_Libra</th>\n",
       "      <th>zodiac_sign_Pisces</th>\n",
       "      <th>zodiac_sign_Sagittarius</th>\n",
       "      <th>zodiac_sign_Scorpio</th>\n",
       "      <th>zodiac_sign_Taurus</th>\n",
       "      <th>zodiac_sign_Virgo</th>\n",
       "      <th>zodiac_sign_na</th>\n",
       "    </tr>\n",
       "  </thead>\n",
       "  <tbody>\n",
       "    <tr>\n",
       "      <th>0</th>\n",
       "      <td>0</td>\n",
       "      <td>37.0</td>\n",
       "      <td>0</td>\n",
       "      <td>0</td>\n",
       "      <td>0</td>\n",
       "      <td>0</td>\n",
       "      <td>0</td>\n",
       "      <td>0</td>\n",
       "      <td>0</td>\n",
       "      <td>0</td>\n",
       "      <td>...</td>\n",
       "      <td>0</td>\n",
       "      <td>0</td>\n",
       "      <td>1</td>\n",
       "      <td>0</td>\n",
       "      <td>0</td>\n",
       "      <td>0</td>\n",
       "      <td>0</td>\n",
       "      <td>0</td>\n",
       "      <td>0</td>\n",
       "      <td>0</td>\n",
       "    </tr>\n",
       "    <tr>\n",
       "      <th>1</th>\n",
       "      <td>0</td>\n",
       "      <td>28.0</td>\n",
       "      <td>0</td>\n",
       "      <td>0</td>\n",
       "      <td>1</td>\n",
       "      <td>0</td>\n",
       "      <td>0</td>\n",
       "      <td>96</td>\n",
       "      <td>0</td>\n",
       "      <td>0</td>\n",
       "      <td>...</td>\n",
       "      <td>0</td>\n",
       "      <td>0</td>\n",
       "      <td>1</td>\n",
       "      <td>0</td>\n",
       "      <td>0</td>\n",
       "      <td>0</td>\n",
       "      <td>0</td>\n",
       "      <td>0</td>\n",
       "      <td>0</td>\n",
       "      <td>0</td>\n",
       "    </tr>\n",
       "    <tr>\n",
       "      <th>2</th>\n",
       "      <td>0</td>\n",
       "      <td>35.0</td>\n",
       "      <td>47</td>\n",
       "      <td>2</td>\n",
       "      <td>86</td>\n",
       "      <td>47</td>\n",
       "      <td>0</td>\n",
       "      <td>285</td>\n",
       "      <td>0</td>\n",
       "      <td>0</td>\n",
       "      <td>...</td>\n",
       "      <td>1</td>\n",
       "      <td>0</td>\n",
       "      <td>0</td>\n",
       "      <td>0</td>\n",
       "      <td>0</td>\n",
       "      <td>0</td>\n",
       "      <td>0</td>\n",
       "      <td>0</td>\n",
       "      <td>0</td>\n",
       "      <td>0</td>\n",
       "    </tr>\n",
       "    <tr>\n",
       "      <th>3</th>\n",
       "      <td>0</td>\n",
       "      <td>26.0</td>\n",
       "      <td>26</td>\n",
       "      <td>3</td>\n",
       "      <td>38</td>\n",
       "      <td>25</td>\n",
       "      <td>0</td>\n",
       "      <td>74</td>\n",
       "      <td>0</td>\n",
       "      <td>0</td>\n",
       "      <td>...</td>\n",
       "      <td>1</td>\n",
       "      <td>0</td>\n",
       "      <td>0</td>\n",
       "      <td>0</td>\n",
       "      <td>0</td>\n",
       "      <td>0</td>\n",
       "      <td>0</td>\n",
       "      <td>0</td>\n",
       "      <td>0</td>\n",
       "      <td>0</td>\n",
       "    </tr>\n",
       "    <tr>\n",
       "      <th>4</th>\n",
       "      <td>1</td>\n",
       "      <td>27.0</td>\n",
       "      <td>0</td>\n",
       "      <td>0</td>\n",
       "      <td>2</td>\n",
       "      <td>0</td>\n",
       "      <td>0</td>\n",
       "      <td>0</td>\n",
       "      <td>0</td>\n",
       "      <td>0</td>\n",
       "      <td>...</td>\n",
       "      <td>0</td>\n",
       "      <td>0</td>\n",
       "      <td>0</td>\n",
       "      <td>0</td>\n",
       "      <td>0</td>\n",
       "      <td>0</td>\n",
       "      <td>0</td>\n",
       "      <td>0</td>\n",
       "      <td>0</td>\n",
       "      <td>0</td>\n",
       "    </tr>\n",
       "    <tr>\n",
       "      <th>...</th>\n",
       "      <td>...</td>\n",
       "      <td>...</td>\n",
       "      <td>...</td>\n",
       "      <td>...</td>\n",
       "      <td>...</td>\n",
       "      <td>...</td>\n",
       "      <td>...</td>\n",
       "      <td>...</td>\n",
       "      <td>...</td>\n",
       "      <td>...</td>\n",
       "      <td>...</td>\n",
       "      <td>...</td>\n",
       "      <td>...</td>\n",
       "      <td>...</td>\n",
       "      <td>...</td>\n",
       "      <td>...</td>\n",
       "      <td>...</td>\n",
       "      <td>...</td>\n",
       "      <td>...</td>\n",
       "      <td>...</td>\n",
       "      <td>...</td>\n",
       "    </tr>\n",
       "    <tr>\n",
       "      <th>26995</th>\n",
       "      <td>1</td>\n",
       "      <td>24.0</td>\n",
       "      <td>0</td>\n",
       "      <td>0</td>\n",
       "      <td>0</td>\n",
       "      <td>0</td>\n",
       "      <td>0</td>\n",
       "      <td>81</td>\n",
       "      <td>0</td>\n",
       "      <td>0</td>\n",
       "      <td>...</td>\n",
       "      <td>0</td>\n",
       "      <td>0</td>\n",
       "      <td>1</td>\n",
       "      <td>0</td>\n",
       "      <td>0</td>\n",
       "      <td>0</td>\n",
       "      <td>0</td>\n",
       "      <td>0</td>\n",
       "      <td>0</td>\n",
       "      <td>0</td>\n",
       "    </tr>\n",
       "    <tr>\n",
       "      <th>26996</th>\n",
       "      <td>1</td>\n",
       "      <td>26.0</td>\n",
       "      <td>0</td>\n",
       "      <td>0</td>\n",
       "      <td>2</td>\n",
       "      <td>0</td>\n",
       "      <td>0</td>\n",
       "      <td>1</td>\n",
       "      <td>0</td>\n",
       "      <td>0</td>\n",
       "      <td>...</td>\n",
       "      <td>0</td>\n",
       "      <td>0</td>\n",
       "      <td>0</td>\n",
       "      <td>0</td>\n",
       "      <td>0</td>\n",
       "      <td>0</td>\n",
       "      <td>0</td>\n",
       "      <td>0</td>\n",
       "      <td>0</td>\n",
       "      <td>0</td>\n",
       "    </tr>\n",
       "    <tr>\n",
       "      <th>26997</th>\n",
       "      <td>0</td>\n",
       "      <td>22.0</td>\n",
       "      <td>0</td>\n",
       "      <td>0</td>\n",
       "      <td>37</td>\n",
       "      <td>0</td>\n",
       "      <td>0</td>\n",
       "      <td>98</td>\n",
       "      <td>0</td>\n",
       "      <td>0</td>\n",
       "      <td>...</td>\n",
       "      <td>0</td>\n",
       "      <td>0</td>\n",
       "      <td>0</td>\n",
       "      <td>0</td>\n",
       "      <td>0</td>\n",
       "      <td>0</td>\n",
       "      <td>0</td>\n",
       "      <td>1</td>\n",
       "      <td>0</td>\n",
       "      <td>0</td>\n",
       "    </tr>\n",
       "    <tr>\n",
       "      <th>26998</th>\n",
       "      <td>1</td>\n",
       "      <td>46.0</td>\n",
       "      <td>2</td>\n",
       "      <td>0</td>\n",
       "      <td>16</td>\n",
       "      <td>2</td>\n",
       "      <td>0</td>\n",
       "      <td>58</td>\n",
       "      <td>0</td>\n",
       "      <td>0</td>\n",
       "      <td>...</td>\n",
       "      <td>0</td>\n",
       "      <td>0</td>\n",
       "      <td>0</td>\n",
       "      <td>0</td>\n",
       "      <td>0</td>\n",
       "      <td>0</td>\n",
       "      <td>0</td>\n",
       "      <td>0</td>\n",
       "      <td>0</td>\n",
       "      <td>0</td>\n",
       "    </tr>\n",
       "    <tr>\n",
       "      <th>26999</th>\n",
       "      <td>1</td>\n",
       "      <td>34.0</td>\n",
       "      <td>0</td>\n",
       "      <td>0</td>\n",
       "      <td>4</td>\n",
       "      <td>0</td>\n",
       "      <td>0</td>\n",
       "      <td>11</td>\n",
       "      <td>0</td>\n",
       "      <td>0</td>\n",
       "      <td>...</td>\n",
       "      <td>0</td>\n",
       "      <td>0</td>\n",
       "      <td>0</td>\n",
       "      <td>0</td>\n",
       "      <td>0</td>\n",
       "      <td>0</td>\n",
       "      <td>0</td>\n",
       "      <td>0</td>\n",
       "      <td>0</td>\n",
       "      <td>0</td>\n",
       "    </tr>\n",
       "  </tbody>\n",
       "</table>\n",
       "<p>27000 rows × 45 columns</p>\n",
       "</div>"
      ],
      "text/plain": [
       "       churn   age  deposits  withdrawal  purchases_partners  purchases  \\\n",
       "0          0  37.0         0           0                   0          0   \n",
       "1          0  28.0         0           0                   1          0   \n",
       "2          0  35.0        47           2                  86         47   \n",
       "3          0  26.0        26           3                  38         25   \n",
       "4          1  27.0         0           0                   2          0   \n",
       "...      ...   ...       ...         ...                 ...        ...   \n",
       "26995      1  24.0         0           0                   0          0   \n",
       "26996      1  26.0         0           0                   2          0   \n",
       "26997      0  22.0         0           0                  37          0   \n",
       "26998      1  46.0         2           0                  16          2   \n",
       "26999      1  34.0         0           0                   4          0   \n",
       "\n",
       "       cc_taken  cc_recommended  cc_disliked  cc_liked  ...  \\\n",
       "0             0               0            0         0  ...   \n",
       "1             0              96            0         0  ...   \n",
       "2             0             285            0         0  ...   \n",
       "3             0              74            0         0  ...   \n",
       "4             0               0            0         0  ...   \n",
       "...         ...             ...          ...       ...  ...   \n",
       "26995         0              81            0         0  ...   \n",
       "26996         0               1            0         0  ...   \n",
       "26997         0              98            0         0  ...   \n",
       "26998         0              58            0         0  ...   \n",
       "26999         0              11            0         0  ...   \n",
       "\n",
       "       zodiac_sign_Capricorn  zodiac_sign_Gemini  zodiac_sign_Leo  \\\n",
       "0                          0                   0                1   \n",
       "1                          0                   0                1   \n",
       "2                          1                   0                0   \n",
       "3                          1                   0                0   \n",
       "4                          0                   0                0   \n",
       "...                      ...                 ...              ...   \n",
       "26995                      0                   0                1   \n",
       "26996                      0                   0                0   \n",
       "26997                      0                   0                0   \n",
       "26998                      0                   0                0   \n",
       "26999                      0                   0                0   \n",
       "\n",
       "       zodiac_sign_Libra  zodiac_sign_Pisces  zodiac_sign_Sagittarius  \\\n",
       "0                      0                   0                        0   \n",
       "1                      0                   0                        0   \n",
       "2                      0                   0                        0   \n",
       "3                      0                   0                        0   \n",
       "4                      0                   0                        0   \n",
       "...                  ...                 ...                      ...   \n",
       "26995                  0                   0                        0   \n",
       "26996                  0                   0                        0   \n",
       "26997                  0                   0                        0   \n",
       "26998                  0                   0                        0   \n",
       "26999                  0                   0                        0   \n",
       "\n",
       "       zodiac_sign_Scorpio  zodiac_sign_Taurus  zodiac_sign_Virgo  \\\n",
       "0                        0                   0                  0   \n",
       "1                        0                   0                  0   \n",
       "2                        0                   0                  0   \n",
       "3                        0                   0                  0   \n",
       "4                        0                   0                  0   \n",
       "...                    ...                 ...                ...   \n",
       "26995                    0                   0                  0   \n",
       "26996                    0                   0                  0   \n",
       "26997                    0                   1                  0   \n",
       "26998                    0                   0                  0   \n",
       "26999                    0                   0                  0   \n",
       "\n",
       "       zodiac_sign_na  \n",
       "0                   0  \n",
       "1                   0  \n",
       "2                   0  \n",
       "3                   0  \n",
       "4                   0  \n",
       "...               ...  \n",
       "26995               0  \n",
       "26996               0  \n",
       "26997               0  \n",
       "26998               0  \n",
       "26999               0  \n",
       "\n",
       "[27000 rows x 45 columns]"
      ]
     },
     "execution_count": 38,
     "metadata": {},
     "output_type": "execute_result"
    }
   ],
   "source": [
    "data"
   ]
  },
  {
   "cell_type": "code",
   "execution_count": 39,
   "metadata": {},
   "outputs": [],
   "source": [
    "data = data.drop(['housing_na', 'zodiac_sign_na', 'payment_type_na'], axis=1)"
   ]
  },
  {
   "cell_type": "markdown",
   "metadata": {},
   "source": [
    "## Train - Test Split"
   ]
  },
  {
   "cell_type": "code",
   "execution_count": 40,
   "metadata": {},
   "outputs": [],
   "source": [
    "from sklearn.model_selection import train_test_split"
   ]
  },
  {
   "cell_type": "code",
   "execution_count": 41,
   "metadata": {},
   "outputs": [],
   "source": [
    "xtrain, xtest, ytrain, ytest = train_test_split(data.drop(['churn'], axis=1), data['churn'], test_size=0.2, random_state=0)"
   ]
  },
  {
   "cell_type": "code",
   "execution_count": 42,
   "metadata": {},
   "outputs": [
    {
     "data": {
      "text/html": [
       "<div>\n",
       "<style scoped>\n",
       "    .dataframe tbody tr th:only-of-type {\n",
       "        vertical-align: middle;\n",
       "    }\n",
       "\n",
       "    .dataframe tbody tr th {\n",
       "        vertical-align: top;\n",
       "    }\n",
       "\n",
       "    .dataframe thead th {\n",
       "        text-align: right;\n",
       "    }\n",
       "</style>\n",
       "<table border=\"1\" class=\"dataframe\">\n",
       "  <thead>\n",
       "    <tr style=\"text-align: right;\">\n",
       "      <th></th>\n",
       "      <th>age</th>\n",
       "      <th>deposits</th>\n",
       "      <th>withdrawal</th>\n",
       "      <th>purchases_partners</th>\n",
       "      <th>purchases</th>\n",
       "      <th>cc_taken</th>\n",
       "      <th>cc_recommended</th>\n",
       "      <th>cc_disliked</th>\n",
       "      <th>cc_liked</th>\n",
       "      <th>cc_application_begin</th>\n",
       "      <th>...</th>\n",
       "      <th>zodiac_sign_Cancer</th>\n",
       "      <th>zodiac_sign_Capricorn</th>\n",
       "      <th>zodiac_sign_Gemini</th>\n",
       "      <th>zodiac_sign_Leo</th>\n",
       "      <th>zodiac_sign_Libra</th>\n",
       "      <th>zodiac_sign_Pisces</th>\n",
       "      <th>zodiac_sign_Sagittarius</th>\n",
       "      <th>zodiac_sign_Scorpio</th>\n",
       "      <th>zodiac_sign_Taurus</th>\n",
       "      <th>zodiac_sign_Virgo</th>\n",
       "    </tr>\n",
       "  </thead>\n",
       "  <tbody>\n",
       "    <tr>\n",
       "      <th>9184</th>\n",
       "      <td>38.0</td>\n",
       "      <td>0</td>\n",
       "      <td>0</td>\n",
       "      <td>65</td>\n",
       "      <td>0</td>\n",
       "      <td>0</td>\n",
       "      <td>102</td>\n",
       "      <td>0</td>\n",
       "      <td>0</td>\n",
       "      <td>5</td>\n",
       "      <td>...</td>\n",
       "      <td>0</td>\n",
       "      <td>0</td>\n",
       "      <td>0</td>\n",
       "      <td>0</td>\n",
       "      <td>0</td>\n",
       "      <td>0</td>\n",
       "      <td>0</td>\n",
       "      <td>0</td>\n",
       "      <td>1</td>\n",
       "      <td>0</td>\n",
       "    </tr>\n",
       "    <tr>\n",
       "      <th>16892</th>\n",
       "      <td>42.0</td>\n",
       "      <td>0</td>\n",
       "      <td>0</td>\n",
       "      <td>5</td>\n",
       "      <td>0</td>\n",
       "      <td>0</td>\n",
       "      <td>51</td>\n",
       "      <td>0</td>\n",
       "      <td>0</td>\n",
       "      <td>5</td>\n",
       "      <td>...</td>\n",
       "      <td>0</td>\n",
       "      <td>0</td>\n",
       "      <td>0</td>\n",
       "      <td>0</td>\n",
       "      <td>0</td>\n",
       "      <td>0</td>\n",
       "      <td>0</td>\n",
       "      <td>0</td>\n",
       "      <td>0</td>\n",
       "      <td>0</td>\n",
       "    </tr>\n",
       "    <tr>\n",
       "      <th>18214</th>\n",
       "      <td>26.0</td>\n",
       "      <td>0</td>\n",
       "      <td>0</td>\n",
       "      <td>0</td>\n",
       "      <td>0</td>\n",
       "      <td>0</td>\n",
       "      <td>0</td>\n",
       "      <td>0</td>\n",
       "      <td>0</td>\n",
       "      <td>0</td>\n",
       "      <td>...</td>\n",
       "      <td>0</td>\n",
       "      <td>0</td>\n",
       "      <td>0</td>\n",
       "      <td>0</td>\n",
       "      <td>0</td>\n",
       "      <td>0</td>\n",
       "      <td>0</td>\n",
       "      <td>0</td>\n",
       "      <td>0</td>\n",
       "      <td>0</td>\n",
       "    </tr>\n",
       "    <tr>\n",
       "      <th>15551</th>\n",
       "      <td>24.0</td>\n",
       "      <td>0</td>\n",
       "      <td>0</td>\n",
       "      <td>3</td>\n",
       "      <td>0</td>\n",
       "      <td>0</td>\n",
       "      <td>19</td>\n",
       "      <td>0</td>\n",
       "      <td>0</td>\n",
       "      <td>3</td>\n",
       "      <td>...</td>\n",
       "      <td>0</td>\n",
       "      <td>0</td>\n",
       "      <td>0</td>\n",
       "      <td>1</td>\n",
       "      <td>0</td>\n",
       "      <td>0</td>\n",
       "      <td>0</td>\n",
       "      <td>0</td>\n",
       "      <td>0</td>\n",
       "      <td>0</td>\n",
       "    </tr>\n",
       "    <tr>\n",
       "      <th>7201</th>\n",
       "      <td>27.0</td>\n",
       "      <td>0</td>\n",
       "      <td>0</td>\n",
       "      <td>57</td>\n",
       "      <td>0</td>\n",
       "      <td>0</td>\n",
       "      <td>120</td>\n",
       "      <td>0</td>\n",
       "      <td>0</td>\n",
       "      <td>7</td>\n",
       "      <td>...</td>\n",
       "      <td>0</td>\n",
       "      <td>0</td>\n",
       "      <td>0</td>\n",
       "      <td>0</td>\n",
       "      <td>0</td>\n",
       "      <td>0</td>\n",
       "      <td>0</td>\n",
       "      <td>0</td>\n",
       "      <td>0</td>\n",
       "      <td>0</td>\n",
       "    </tr>\n",
       "    <tr>\n",
       "      <th>...</th>\n",
       "      <td>...</td>\n",
       "      <td>...</td>\n",
       "      <td>...</td>\n",
       "      <td>...</td>\n",
       "      <td>...</td>\n",
       "      <td>...</td>\n",
       "      <td>...</td>\n",
       "      <td>...</td>\n",
       "      <td>...</td>\n",
       "      <td>...</td>\n",
       "      <td>...</td>\n",
       "      <td>...</td>\n",
       "      <td>...</td>\n",
       "      <td>...</td>\n",
       "      <td>...</td>\n",
       "      <td>...</td>\n",
       "      <td>...</td>\n",
       "      <td>...</td>\n",
       "      <td>...</td>\n",
       "      <td>...</td>\n",
       "      <td>...</td>\n",
       "    </tr>\n",
       "    <tr>\n",
       "      <th>13123</th>\n",
       "      <td>34.0</td>\n",
       "      <td>0</td>\n",
       "      <td>0</td>\n",
       "      <td>8</td>\n",
       "      <td>0</td>\n",
       "      <td>0</td>\n",
       "      <td>218</td>\n",
       "      <td>0</td>\n",
       "      <td>0</td>\n",
       "      <td>5</td>\n",
       "      <td>...</td>\n",
       "      <td>0</td>\n",
       "      <td>0</td>\n",
       "      <td>0</td>\n",
       "      <td>0</td>\n",
       "      <td>0</td>\n",
       "      <td>0</td>\n",
       "      <td>0</td>\n",
       "      <td>0</td>\n",
       "      <td>0</td>\n",
       "      <td>0</td>\n",
       "    </tr>\n",
       "    <tr>\n",
       "      <th>19648</th>\n",
       "      <td>22.0</td>\n",
       "      <td>0</td>\n",
       "      <td>0</td>\n",
       "      <td>0</td>\n",
       "      <td>0</td>\n",
       "      <td>0</td>\n",
       "      <td>0</td>\n",
       "      <td>0</td>\n",
       "      <td>0</td>\n",
       "      <td>0</td>\n",
       "      <td>...</td>\n",
       "      <td>0</td>\n",
       "      <td>0</td>\n",
       "      <td>0</td>\n",
       "      <td>0</td>\n",
       "      <td>0</td>\n",
       "      <td>0</td>\n",
       "      <td>0</td>\n",
       "      <td>0</td>\n",
       "      <td>0</td>\n",
       "      <td>1</td>\n",
       "    </tr>\n",
       "    <tr>\n",
       "      <th>9845</th>\n",
       "      <td>33.0</td>\n",
       "      <td>1</td>\n",
       "      <td>0</td>\n",
       "      <td>58</td>\n",
       "      <td>1</td>\n",
       "      <td>0</td>\n",
       "      <td>114</td>\n",
       "      <td>0</td>\n",
       "      <td>0</td>\n",
       "      <td>47</td>\n",
       "      <td>...</td>\n",
       "      <td>0</td>\n",
       "      <td>0</td>\n",
       "      <td>0</td>\n",
       "      <td>0</td>\n",
       "      <td>1</td>\n",
       "      <td>0</td>\n",
       "      <td>0</td>\n",
       "      <td>0</td>\n",
       "      <td>0</td>\n",
       "      <td>0</td>\n",
       "    </tr>\n",
       "    <tr>\n",
       "      <th>10799</th>\n",
       "      <td>36.0</td>\n",
       "      <td>0</td>\n",
       "      <td>0</td>\n",
       "      <td>0</td>\n",
       "      <td>0</td>\n",
       "      <td>0</td>\n",
       "      <td>166</td>\n",
       "      <td>0</td>\n",
       "      <td>0</td>\n",
       "      <td>50</td>\n",
       "      <td>...</td>\n",
       "      <td>0</td>\n",
       "      <td>0</td>\n",
       "      <td>0</td>\n",
       "      <td>0</td>\n",
       "      <td>0</td>\n",
       "      <td>0</td>\n",
       "      <td>0</td>\n",
       "      <td>0</td>\n",
       "      <td>0</td>\n",
       "      <td>0</td>\n",
       "    </tr>\n",
       "    <tr>\n",
       "      <th>2732</th>\n",
       "      <td>36.0</td>\n",
       "      <td>0</td>\n",
       "      <td>0</td>\n",
       "      <td>0</td>\n",
       "      <td>0</td>\n",
       "      <td>0</td>\n",
       "      <td>5</td>\n",
       "      <td>0</td>\n",
       "      <td>0</td>\n",
       "      <td>0</td>\n",
       "      <td>...</td>\n",
       "      <td>0</td>\n",
       "      <td>0</td>\n",
       "      <td>0</td>\n",
       "      <td>0</td>\n",
       "      <td>0</td>\n",
       "      <td>0</td>\n",
       "      <td>0</td>\n",
       "      <td>1</td>\n",
       "      <td>0</td>\n",
       "      <td>0</td>\n",
       "    </tr>\n",
       "  </tbody>\n",
       "</table>\n",
       "<p>21600 rows × 41 columns</p>\n",
       "</div>"
      ],
      "text/plain": [
       "        age  deposits  withdrawal  purchases_partners  purchases  cc_taken  \\\n",
       "9184   38.0         0           0                  65          0         0   \n",
       "16892  42.0         0           0                   5          0         0   \n",
       "18214  26.0         0           0                   0          0         0   \n",
       "15551  24.0         0           0                   3          0         0   \n",
       "7201   27.0         0           0                  57          0         0   \n",
       "...     ...       ...         ...                 ...        ...       ...   \n",
       "13123  34.0         0           0                   8          0         0   \n",
       "19648  22.0         0           0                   0          0         0   \n",
       "9845   33.0         1           0                  58          1         0   \n",
       "10799  36.0         0           0                   0          0         0   \n",
       "2732   36.0         0           0                   0          0         0   \n",
       "\n",
       "       cc_recommended  cc_disliked  cc_liked  cc_application_begin  ...  \\\n",
       "9184              102            0         0                     5  ...   \n",
       "16892              51            0         0                     5  ...   \n",
       "18214               0            0         0                     0  ...   \n",
       "15551              19            0         0                     3  ...   \n",
       "7201              120            0         0                     7  ...   \n",
       "...               ...          ...       ...                   ...  ...   \n",
       "13123             218            0         0                     5  ...   \n",
       "19648               0            0         0                     0  ...   \n",
       "9845              114            0         0                    47  ...   \n",
       "10799             166            0         0                    50  ...   \n",
       "2732                5            0         0                     0  ...   \n",
       "\n",
       "       zodiac_sign_Cancer  zodiac_sign_Capricorn  zodiac_sign_Gemini  \\\n",
       "9184                    0                      0                   0   \n",
       "16892                   0                      0                   0   \n",
       "18214                   0                      0                   0   \n",
       "15551                   0                      0                   0   \n",
       "7201                    0                      0                   0   \n",
       "...                   ...                    ...                 ...   \n",
       "13123                   0                      0                   0   \n",
       "19648                   0                      0                   0   \n",
       "9845                    0                      0                   0   \n",
       "10799                   0                      0                   0   \n",
       "2732                    0                      0                   0   \n",
       "\n",
       "       zodiac_sign_Leo  zodiac_sign_Libra  zodiac_sign_Pisces  \\\n",
       "9184                 0                  0                   0   \n",
       "16892                0                  0                   0   \n",
       "18214                0                  0                   0   \n",
       "15551                1                  0                   0   \n",
       "7201                 0                  0                   0   \n",
       "...                ...                ...                 ...   \n",
       "13123                0                  0                   0   \n",
       "19648                0                  0                   0   \n",
       "9845                 0                  1                   0   \n",
       "10799                0                  0                   0   \n",
       "2732                 0                  0                   0   \n",
       "\n",
       "       zodiac_sign_Sagittarius  zodiac_sign_Scorpio  zodiac_sign_Taurus  \\\n",
       "9184                         0                    0                   1   \n",
       "16892                        0                    0                   0   \n",
       "18214                        0                    0                   0   \n",
       "15551                        0                    0                   0   \n",
       "7201                         0                    0                   0   \n",
       "...                        ...                  ...                 ...   \n",
       "13123                        0                    0                   0   \n",
       "19648                        0                    0                   0   \n",
       "9845                         0                    0                   0   \n",
       "10799                        0                    0                   0   \n",
       "2732                         0                    1                   0   \n",
       "\n",
       "       zodiac_sign_Virgo  \n",
       "9184                   0  \n",
       "16892                  0  \n",
       "18214                  0  \n",
       "15551                  0  \n",
       "7201                   0  \n",
       "...                  ...  \n",
       "13123                  0  \n",
       "19648                  1  \n",
       "9845                   0  \n",
       "10799                  0  \n",
       "2732                   0  \n",
       "\n",
       "[21600 rows x 41 columns]"
      ]
     },
     "execution_count": 42,
     "metadata": {},
     "output_type": "execute_result"
    }
   ],
   "source": [
    "xtrain"
   ]
  },
  {
   "cell_type": "markdown",
   "metadata": {},
   "source": [
    "# Feature Scaling"
   ]
  },
  {
   "cell_type": "code",
   "execution_count": 43,
   "metadata": {},
   "outputs": [],
   "source": [
    "from sklearn.preprocessing import StandardScaler"
   ]
  },
  {
   "cell_type": "code",
   "execution_count": 44,
   "metadata": {},
   "outputs": [],
   "source": [
    "sc = StandardScaler()"
   ]
  },
  {
   "cell_type": "code",
   "execution_count": 45,
   "metadata": {},
   "outputs": [],
   "source": [
    "xtrain2 = pd.DataFrame(sc.fit_transform(xtrain))\n",
    "xtest2 = pd.DataFrame(sc.transform(xtest))"
   ]
  },
  {
   "cell_type": "code",
   "execution_count": 46,
   "metadata": {},
   "outputs": [],
   "source": [
    "xtrain2.columns = xtrain.columns.values"
   ]
  },
  {
   "cell_type": "code",
   "execution_count": 47,
   "metadata": {},
   "outputs": [],
   "source": [
    "xtest2.columns = xtest.columns.values"
   ]
  },
  {
   "cell_type": "code",
   "execution_count": 48,
   "metadata": {},
   "outputs": [],
   "source": [
    "xtrain2.index = xtrain.index.values\n",
    "xtest2.index = xtest.index.values"
   ]
  },
  {
   "cell_type": "code",
   "execution_count": 49,
   "metadata": {},
   "outputs": [],
   "source": [
    "xtrain = xtrain2\n",
    "xtest = xtest2"
   ]
  },
  {
   "cell_type": "markdown",
   "metadata": {},
   "source": [
    "# Model Building"
   ]
  },
  {
   "cell_type": "code",
   "execution_count": 50,
   "metadata": {},
   "outputs": [],
   "source": [
    "from sklearn.linear_model import LogisticRegression"
   ]
  },
  {
   "cell_type": "code",
   "execution_count": 51,
   "metadata": {},
   "outputs": [],
   "source": [
    "model = LogisticRegression(random_state=0)"
   ]
  },
  {
   "cell_type": "code",
   "execution_count": 52,
   "metadata": {},
   "outputs": [
    {
     "data": {
      "text/plain": [
       "LogisticRegression(C=1.0, class_weight=None, dual=False, fit_intercept=True,\n",
       "                   intercept_scaling=1, l1_ratio=None, max_iter=100,\n",
       "                   multi_class='auto', n_jobs=None, penalty='l2',\n",
       "                   random_state=0, solver='lbfgs', tol=0.0001, verbose=0,\n",
       "                   warm_start=False)"
      ]
     },
     "execution_count": 52,
     "metadata": {},
     "output_type": "execute_result"
    }
   ],
   "source": [
    "model.fit(xtrain, ytrain)"
   ]
  },
  {
   "cell_type": "code",
   "execution_count": 53,
   "metadata": {},
   "outputs": [],
   "source": [
    "predict = model.predict(xtest)"
   ]
  },
  {
   "cell_type": "code",
   "execution_count": 54,
   "metadata": {},
   "outputs": [
    {
     "data": {
      "text/plain": [
       "0.6435185185185185"
      ]
     },
     "execution_count": 54,
     "metadata": {},
     "output_type": "execute_result"
    }
   ],
   "source": [
    "model.score(xtest, ytest)"
   ]
  },
  {
   "cell_type": "code",
   "execution_count": 55,
   "metadata": {},
   "outputs": [],
   "source": [
    "from sklearn.metrics import confusion_matrix, precision_score, recall_score"
   ]
  },
  {
   "cell_type": "code",
   "execution_count": 56,
   "metadata": {},
   "outputs": [
    {
     "data": {
      "text/plain": [
       "0.5849462365591398"
      ]
     },
     "execution_count": 56,
     "metadata": {},
     "output_type": "execute_result"
    }
   ],
   "source": [
    "precision_score(ytest, predict)"
   ]
  },
  {
   "cell_type": "code",
   "execution_count": 57,
   "metadata": {},
   "outputs": [
    {
     "data": {
      "text/plain": [
       "0.4854975457385096"
      ]
     },
     "execution_count": 57,
     "metadata": {},
     "output_type": "execute_result"
    }
   ],
   "source": [
    "recall_score(ytest, predict)"
   ]
  },
  {
   "cell_type": "markdown",
   "metadata": {},
   "source": [
    "A system with high precision but low recall is, returning very few results, but most of its predicted labels are correct when compared to the training labels"
   ]
  },
  {
   "cell_type": "markdown",
   "metadata": {},
   "source": [
    "# Confusion Matix"
   ]
  },
  {
   "cell_type": "code",
   "execution_count": 58,
   "metadata": {},
   "outputs": [],
   "source": [
    "cm = confusion_matrix(ytest, predict)"
   ]
  },
  {
   "cell_type": "code",
   "execution_count": 59,
   "metadata": {},
   "outputs": [
    {
     "data": {
      "text/plain": [
       "<matplotlib.axes._subplots.AxesSubplot at 0x214d60c1f60>"
      ]
     },
     "execution_count": 59,
     "metadata": {},
     "output_type": "execute_result"
    },
    {
     "data": {
      "image/png": "[encoded data removed]",
      "text/plain": [
       "<Figure size 1080x360 with 2 Axes>"
      ]
     },
     "metadata": {},
     "output_type": "display_data"
    }
   ],
   "source": [
    "sns.heatmap(cm, annot=True, fmt='g')"
   ]
  },
  {
   "cell_type": "code",
   "execution_count": 60,
   "metadata": {},
   "outputs": [
    {
     "name": "stdout",
     "output_type": "stream",
     "text": [
      " Accuracy: 0.651 \n"
     ]
    }
   ],
   "source": [
    "from sklearn.model_selection import cross_val_score\n",
    "accuracies = cross_val_score(estimator = model,\n",
    "                             X = xtrain ,\n",
    "                             y = ytrain, cv = 10)\n",
    "print(\" Accuracy: %0.3f \" % (accuracies.mean() ))"
   ]
  },
  {
   "cell_type": "markdown",
   "metadata": {},
   "source": [
    "# Feature Selection"
   ]
  },
  {
   "cell_type": "code",
   "execution_count": 61,
   "metadata": {},
   "outputs": [],
   "source": [
    "from sklearn.feature_selection import RFE"
   ]
  },
  {
   "cell_type": "code",
   "execution_count": 63,
   "metadata": {},
   "outputs": [],
   "source": [
    "rfe = RFE(model, 20)\n",
    "rfe = rfe.fit(xtrain, ytrain)"
   ]
  },
  {
   "cell_type": "code",
   "execution_count": 64,
   "metadata": {},
   "outputs": [
    {
     "data": {
      "text/plain": [
       "Index(['age', 'deposits', 'withdrawal', 'purchases_partners', 'purchases',\n",
       "       'cc_taken', 'cc_recommended', 'web_user', 'ios_user',\n",
       "       'registered_phones', 'cancelled_loan', 'received_loan', 'rejected_loan',\n",
       "       'left_for_two_month_plus', 'left_for_one_month', 'reward_rate',\n",
       "       'housing_O', 'housing_R', 'payment_type_Bi-Weekly',\n",
       "       'payment_type_Weekly'],\n",
       "      dtype='object')"
      ]
     },
     "execution_count": 64,
     "metadata": {},
     "output_type": "execute_result"
    }
   ],
   "source": [
    "xtrain.columns[rfe.support_]"
   ]
  },
  {
   "cell_type": "code",
   "execution_count": 65,
   "metadata": {},
   "outputs": [],
   "source": [
    "model2 = LogisticRegression(random_state=0)"
   ]
  },
  {
   "cell_type": "code",
   "execution_count": 66,
   "metadata": {},
   "outputs": [
    {
     "data": {
      "text/plain": [
       "LogisticRegression(C=1.0, class_weight=None, dual=False, fit_intercept=True,\n",
       "                   intercept_scaling=1, l1_ratio=None, max_iter=100,\n",
       "                   multi_class='auto', n_jobs=None, penalty='l2',\n",
       "                   random_state=0, solver='lbfgs', tol=0.0001, verbose=0,\n",
       "                   warm_start=False)"
      ]
     },
     "execution_count": 66,
     "metadata": {},
     "output_type": "execute_result"
    }
   ],
   "source": [
    "model2.fit(xtrain[xtrain.columns[rfe.support_]], ytrain)"
   ]
  },
  {
   "cell_type": "code",
   "execution_count": 67,
   "metadata": {},
   "outputs": [],
   "source": [
    "predict2 = model2.predict(xtest[xtest.columns[rfe.support_]])"
   ]
  },
  {
   "cell_type": "code",
   "execution_count": 68,
   "metadata": {},
   "outputs": [
    {
     "data": {
      "text/plain": [
       "0.6424074074074074"
      ]
     },
     "execution_count": 68,
     "metadata": {},
     "output_type": "execute_result"
    }
   ],
   "source": [
    "model2.score(xtest[xtest.columns[rfe.support_]], ytest)"
   ]
  },
  {
   "cell_type": "code",
   "execution_count": 69,
   "metadata": {},
   "outputs": [
    {
     "data": {
      "text/plain": [
       "0.5836030204962244"
      ]
     },
     "execution_count": 69,
     "metadata": {},
     "output_type": "execute_result"
    }
   ],
   "source": [
    "precision_score(ytest, predict2)"
   ]
  },
  {
   "cell_type": "code",
   "execution_count": 70,
   "metadata": {},
   "outputs": [],
   "source": [
    "cm2 = confusion_matrix(ytest, predict2)"
   ]
  },
  {
   "cell_type": "code",
   "execution_count": 71,
   "metadata": {
    "scrolled": true
   },
   "outputs": [
    {
     "data": {
      "text/plain": [
       "<matplotlib.axes._subplots.AxesSubplot at 0x214d5136748>"
      ]
     },
     "execution_count": 71,
     "metadata": {},
     "output_type": "execute_result"
    },
    {
     "data": {
      "image/png": "[encoded data removed]",
      "text/plain": [
       "<Figure size 1080x360 with 2 Axes>"
      ]
     },
     "metadata": {},
     "output_type": "display_data"
    }
   ],
   "source": [
    "sns.heatmap(cm2, annot=True, fmt='g')"
   ]
  },
  {
   "cell_type": "markdown",
   "metadata": {},
   "source": [
    "- #### Feature selection made us understand that only 20 features are good and useful enough for our model to give good accuracy so instead of using all 41 columns we can use only 20 columns to achieve our results."
   ]
  },
  {
   "cell_type": "code",
   "execution_count": 72,
   "metadata": {},
   "outputs": [],
   "source": [
    "final_results = pd.concat([ytest, user], axis = 1).dropna()\n",
    "final_results['predicted_churn'] = predict2\n",
    "final_results = final_results[['user', 'churn', 'predicted_churn']].reset_index(drop=True)\n"
   ]
  },
  {
   "cell_type": "code",
   "execution_count": 73,
   "metadata": {},
   "outputs": [
    {
     "data": {
      "text/html": [
       "<div>\n",
       "<style scoped>\n",
       "    .dataframe tbody tr th:only-of-type {\n",
       "        vertical-align: middle;\n",
       "    }\n",
       "\n",
       "    .dataframe tbody tr th {\n",
       "        vertical-align: top;\n",
       "    }\n",
       "\n",
       "    .dataframe thead th {\n",
       "        text-align: right;\n",
       "    }\n",
       "</style>\n",
       "<table border=\"1\" class=\"dataframe\">\n",
       "  <thead>\n",
       "    <tr style=\"text-align: right;\">\n",
       "      <th></th>\n",
       "      <th>user</th>\n",
       "      <th>churn</th>\n",
       "      <th>predicted_churn</th>\n",
       "    </tr>\n",
       "  </thead>\n",
       "  <tbody>\n",
       "    <tr>\n",
       "      <th>0</th>\n",
       "      <td>61353</td>\n",
       "      <td>1.0</td>\n",
       "      <td>0</td>\n",
       "    </tr>\n",
       "    <tr>\n",
       "      <th>1</th>\n",
       "      <td>67679</td>\n",
       "      <td>0.0</td>\n",
       "      <td>0</td>\n",
       "    </tr>\n",
       "    <tr>\n",
       "      <th>2</th>\n",
       "      <td>21269</td>\n",
       "      <td>0.0</td>\n",
       "      <td>0</td>\n",
       "    </tr>\n",
       "    <tr>\n",
       "      <th>3</th>\n",
       "      <td>69531</td>\n",
       "      <td>0.0</td>\n",
       "      <td>0</td>\n",
       "    </tr>\n",
       "    <tr>\n",
       "      <th>4</th>\n",
       "      <td>25997</td>\n",
       "      <td>0.0</td>\n",
       "      <td>0</td>\n",
       "    </tr>\n",
       "    <tr>\n",
       "      <th>...</th>\n",
       "      <td>...</td>\n",
       "      <td>...</td>\n",
       "      <td>...</td>\n",
       "    </tr>\n",
       "    <tr>\n",
       "      <th>5395</th>\n",
       "      <td>68179</td>\n",
       "      <td>1.0</td>\n",
       "      <td>0</td>\n",
       "    </tr>\n",
       "    <tr>\n",
       "      <th>5396</th>\n",
       "      <td>19540</td>\n",
       "      <td>0.0</td>\n",
       "      <td>0</td>\n",
       "    </tr>\n",
       "    <tr>\n",
       "      <th>5397</th>\n",
       "      <td>24291</td>\n",
       "      <td>1.0</td>\n",
       "      <td>1</td>\n",
       "    </tr>\n",
       "    <tr>\n",
       "      <th>5398</th>\n",
       "      <td>23740</td>\n",
       "      <td>0.0</td>\n",
       "      <td>1</td>\n",
       "    </tr>\n",
       "    <tr>\n",
       "      <th>5399</th>\n",
       "      <td>52752</td>\n",
       "      <td>1.0</td>\n",
       "      <td>0</td>\n",
       "    </tr>\n",
       "  </tbody>\n",
       "</table>\n",
       "<p>5400 rows × 3 columns</p>\n",
       "</div>"
      ],
      "text/plain": [
       "       user  churn  predicted_churn\n",
       "0     61353    1.0                0\n",
       "1     67679    0.0                0\n",
       "2     21269    0.0                0\n",
       "3     69531    0.0                0\n",
       "4     25997    0.0                0\n",
       "...     ...    ...              ...\n",
       "5395  68179    1.0                0\n",
       "5396  19540    0.0                0\n",
       "5397  24291    1.0                1\n",
       "5398  23740    0.0                1\n",
       "5399  52752    1.0                0\n",
       "\n",
       "[5400 rows x 3 columns]"
      ]
     },
     "execution_count": 73,
     "metadata": {},
     "output_type": "execute_result"
    }
   ],
   "source": [
    "final_results"
   ]
  }
 ],
 "metadata": {
  "kernelspec": {
   "display_name": "Python 3",
   "language": "python",
   "name": "python3"
  },
  "language_info": {
   "codemirror_mode": {
    "name": "ipython",
    "version": 3
   },
   "file_extension": ".py",
   "mimetype": "text/x-python",
   "name": "python",
   "nbconvert_exporter": "python",
   "pygments_lexer": "ipython3",
   "version": "3.6.9"
  }
 },
 "nbformat": 4,
 "nbformat_minor": 2
}
